{
 "cells": [
  {
   "cell_type": "code",
   "execution_count": 10,
   "metadata": {
    "collapsed": false
   },
   "outputs": [],
   "source": [
    "local_dir = '/home/neilor/scielo_db/dados'\n",
    "connect_cmd = \"dbname='scielo_db' user='neilor' host='localhost' password='n1f2c3n1'\"\n",
    "%load_ext sql\n",
    "%sql postgresql://neilor:n1f2c3n1@/scielo_db\n",
    "import psycopg2 as pg"
   ]
  },
  {
   "cell_type": "code",
   "execution_count": 14,
   "metadata": {
    "collapsed": false
   },
   "outputs": [
    {
     "name": "stdout",
     "output_type": "stream",
     "text": [
      "Done.\n",
      "Done.\n"
     ]
    },
    {
     "data": {
      "text/plain": [
       "[]"
      ]
     },
     "execution_count": 14,
     "metadata": {},
     "output_type": "execute_result"
    }
   ],
   "source": [
    "query_create_table_nomes = \"\"\"\n",
    "drop table if exists alacip.nomes;\n",
    "create table alacip.nomes\n",
    "(\n",
    "    nome varchar,\n",
    "    sexo varchar,\n",
    "    nome_normal varchar\n",
    ");\n",
    "\"\"\"\n",
    "\n",
    "%sql {query_create_table_nomes}"
   ]
  },
  {
   "cell_type": "code",
   "execution_count": 15,
   "metadata": {
    "collapsed": false
   },
   "outputs": [],
   "source": [
    "import os\n",
    "import psycopg2 as pg\n",
    "import os.path\n",
    "import re\n",
    "\n",
    "def normalizar_nome(nome):\n",
    "    nome1 = nome.upper()\n",
    "    nome2 = nome1.replace('Y','I')\n",
    "    nome3 = nome2.replace('LL','L')\n",
    "    n0 = nome3\n",
    "    n1=re.sub('[Á|á|À|à|Â|â|Ã|ã|Ä|ä]','A',n0)\n",
    "    n2=re.sub('[É|é|È|è|Ê|ê|Ẽ|ẽ|Ë|ë]','E',n1)\n",
    "    n3=re.sub('[Í|í|Ì|ì|Î|î|Ĩ|ĩ|Ï|ï]','I',n2)\n",
    "    n4=re.sub('[Ó|ó|Ò|ò|Ô|ô|Õ|õ|Ö|ö]','O',n3)\n",
    "    n5=re.sub('[Ú|ú|Ù|ù|Û|û|Ũ|ũ|Ü|ü]','U',n4)\n",
    "    n6=re.sub('[Ý|ý|Ỳ|ỳ|Ŷ|ŷ|Ỹ|ỹ|Ÿ|ÿ]','I',n5)\n",
    "    n7=re.sub('[Ç|ç]','C',n6)\n",
    "    n8=n7.upper()\n",
    "    n9=n8.replace('LL','L')\n",
    "    n10=n9.replace('NN','N')\n",
    "    n11=n10.replace('EE','E')\n",
    "    n12=n11.replace('TT','T')\n",
    "    return re.sub('[\\s+]', '', n12)\n",
    "    \n",
    "\n",
    "def insert_table_data(table_name,csv_file_path):\n",
    "\n",
    "\n",
    "    fh = open(csv_file_path, mode='rt')\n",
    "    header= fh.readline()\n",
    "\n",
    "    conn = pg.connect(connect_cmd)\n",
    "\n",
    "    cur = conn.cursor()\n",
    "\n",
    "    for line in fh:\n",
    "        l = line.split(';')\n",
    "        nome = l[0].upper()\n",
    "        sexo = l[1].replace('\\n','')\n",
    "        nome_normal = normalizar_nome(nome)\n",
    "        \n",
    "   \n",
    "        \n",
    "        query = \"INSERT INTO {} \".format(table_name)\n",
    "\n",
    "        query = query + \" select '\"+nome+\"','\"+sexo+\"'\"+\", '\"+nome_normal+\"' \"\n",
    "        \n",
    "        query = query + \" where '\"+nome+\"' not in (select upper(nome) from \"+table_name+\" );\"\n",
    "\n",
    "        #print (query)\n",
    "\n",
    "        try:\n",
    "            cur.execute(query)\n",
    "            #conn.commit()\n",
    "        except:\n",
    "            print(\"erro\")\n",
    "            print(query)\n",
    "            conn.rollback()\n",
    " \n",
    "    fh.close\n",
    "    conn.commit()\n",
    "    conn.close()\n",
    "    print(\"OK\")\n",
    "    \n"
   ]
  },
  {
   "cell_type": "code",
   "execution_count": 16,
   "metadata": {
    "collapsed": false
   },
   "outputs": [
    {
     "name": "stdout",
     "output_type": "stream",
     "text": [
      "OK\n",
      "OK\n",
      "OK\n",
      "OK\n",
      "OK\n",
      "OK\n",
      "OK\n",
      "OK\n",
      "OK\n"
     ]
    }
   ],
   "source": [
    "insert_table_data('alacip.nomes',local_dir+'/nomes-femininos-1.csv')\n",
    "insert_table_data('alacip.nomes',local_dir+'/nomes-femininos-2.csv')\n",
    "insert_table_data('alacip.nomes',local_dir+'/nomes-femininos-3.csv')\n",
    "insert_table_data('alacip.nomes',local_dir+'/nomes-masculinos-1.csv')\n",
    "insert_table_data('alacip.nomes',local_dir+'/nomes-masculinos-3.csv')\n",
    "insert_table_data('alacip.nomes',local_dir+'/nomes-masculinos-4.csv')\n",
    "insert_table_data('alacip.nomes',local_dir+'/nomes-femininos-4.csv')\n",
    "insert_table_data('alacip.nomes',local_dir+'/nomes-femininos-6.csv')\n",
    "insert_table_data('alacip.nomes',local_dir+'/nomes-masculinos-6.csv')\n"
   ]
  },
  {
   "cell_type": "code",
   "execution_count": null,
   "metadata": {
    "collapsed": true
   },
   "outputs": [],
   "source": []
  }
 ],
 "metadata": {
  "kernelspec": {
   "display_name": "Python 3",
   "language": "python",
   "name": "python3"
  },
  "language_info": {
   "codemirror_mode": {
    "name": "ipython",
    "version": 3
   },
   "file_extension": ".py",
   "mimetype": "text/x-python",
   "name": "python",
   "nbconvert_exporter": "python",
   "pygments_lexer": "ipython3",
   "version": "3.6.0"
  }
 },
 "nbformat": 4,
 "nbformat_minor": 2
}
