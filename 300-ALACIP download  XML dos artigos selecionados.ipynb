{
 "cells": [
  {
   "cell_type": "markdown",
   "metadata": {},
   "source": [
    "## FAZ DOWNLOAD DOS ARQUIVOS XML DOS ARTIGOS SELECIONADOS"
   ]
  },
  {
   "cell_type": "code",
   "execution_count": 2,
   "metadata": {},
   "outputs": [],
   "source": [
    "local_dir = '/home/neilor/DADOS_SCIELO/alacip/'\n",
    "connect_cmd = \"dbname='scielo_db' user='neilor' host='localhost' password='n1f2c3n1'\"\n",
    "import psycopg2 as pg\n",
    "import os\n",
    "import scielo_mod as smod"
   ]
  },
  {
   "cell_type": "code",
   "execution_count": 3,
   "metadata": {},
   "outputs": [],
   "source": [
    "import urllib.request\n",
    "import time\n",
    "import os\n",
    "import pandas as pd\n",
    "from pathlib import Path"
   ]
  },
  {
   "cell_type": "code",
   "execution_count": 10,
   "metadata": {},
   "outputs": [
    {
     "name": "stdout",
     "output_type": "stream",
     "text": [
      "1061  xml files dwonloaded\n"
     ]
    }
   ],
   "source": [
    "xml_dir = local_dir+'artigos_xml/'\n",
    "\n",
    "url_base='http://www.scielo.br/scieloOrg/php/articleXML.php?pid='\n",
    "    \n",
    "query_artigos_id= \"select scielo_id from alacip.artigos_selecionados\"\n",
    "\n",
    "df = smod.pandas_query(query_artigos_id)\n",
    "\n",
    "count=0\n",
    "for id in df['scielo_id']:\n",
    "    url = url_base+id\n",
    "    file_name = xml_dir+'/'+id +'.xml'\n",
    "    file_path = Path(file_name)\n",
    "    if not file_path.is_file():\n",
    "        urllib.request.urlretrieve(url,xml_dir+'/articleXML.php')\n",
    "        count=count+1   \n",
    "        os.rename(xml_dir+'/articleXML.php',file_name)\n",
    "print(count,' xml files dwonloaded')"
   ]
  },
  {
   "cell_type": "code",
   "execution_count": 5,
   "metadata": {},
   "outputs": [],
   "source": [
    "query_create_table_artigos_xml = \"\"\"\n",
    "drop table if exists alacip.artigos_xml;\n",
    "create table alacip.artigos_xml\n",
    "(\n",
    "    scielo_id varchar,\n",
    "    xml text\n",
    ");\n",
    "\n",
    "CREATE INDEX scielo_id_idx ON alacip.artigos_xml (scielo_id);\n",
    "\"\"\"\n",
    "\n",
    "smod.execute_query(query_create_table_artigos_xml)"
   ]
  },
  {
   "cell_type": "code",
   "execution_count": null,
   "metadata": {},
   "outputs": [],
   "source": [
    "xml_dir = local_dir+'artigos_xml/'\n",
    "\n",
    "url_base='http://www.scielo.br/scieloOrg/php/articleXML.php?pid='\n",
    "    \n",
    "query_artigos_id= \"select scielo_id from alacip.artigos_selecionados\"\n",
    "\n",
    "df = smod.pandas_query(query_artigos_id)\n",
    "\n",
    "count=0\n",
    "for id in df['scielo_id']:\n",
    "    url = url_base+id\n",
    "    file_name = xml_dir+'/'+id +'.xml'\n",
    "    file_path = Path(file_name)\n",
    "    \n",
    "    \n",
    "    \n",
    "    if not file_path.is_file():\n",
    "        urllib.request.urlretrieve(url,xml_dir+'/articleXML.php')\n",
    "        count=count+1   \n",
    "        os.rename(xml_dir+'/articleXML.php',file_name)\n",
    "print(count,' xml files dwonloaded')"
   ]
  }
 ],
 "metadata": {
  "kernelspec": {
   "display_name": "Python 3",
   "language": "python",
   "name": "python3"
  },
  "language_info": {
   "codemirror_mode": {
    "name": "ipython",
    "version": 3
   },
   "file_extension": ".py",
   "mimetype": "text/x-python",
   "name": "python",
   "nbconvert_exporter": "python",
   "pygments_lexer": "ipython3",
   "version": "3.7.3"
  }
 },
 "nbformat": 4,
 "nbformat_minor": 2
}
