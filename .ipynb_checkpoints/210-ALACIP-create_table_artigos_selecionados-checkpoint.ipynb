{
 "cells": [
  {
   "cell_type": "code",
   "execution_count": 9,
   "metadata": {},
   "outputs": [
    {
     "name": "stdout",
     "output_type": "stream",
     "text": [
      "The sql extension is already loaded. To reload it, use:\n",
      "  %reload_ext sql\n"
     ]
    }
   ],
   "source": [
    "connect_cmd = \"dbname='scielo_db' user='neilor' host='localhost' password='n1f2c3n1'\"\n",
    "%load_ext sql\n",
    "%sql postgresql://neilor:n1f2c3n1@/scielo_db\n",
    "import psycopg2 as pg\n",
    "import os\n",
    "        "
   ]
  },
  {
   "cell_type": "code",
   "execution_count": 5,
   "metadata": {},
   "outputs": [
    {
     "name": "stdout",
     "output_type": "stream",
     "text": [
      "Done.\n",
      "Done.\n"
     ]
    },
    {
     "data": {
      "text/plain": [
       "[]"
      ]
     },
     "execution_count": 5,
     "metadata": {},
     "output_type": "execute_result"
    }
   ],
   "source": [
    "query_create_table_artigos_selecionados = \"\"\"\n",
    "drop table if exists alacip.artigos_selecionados;\n",
    "create table alacip.artigos_selecionados\n",
    "(\n",
    "    data_extracao    varchar,\n",
    "    scielo_id    varchar,\n",
    "    \n",
    "    -- PERIODICO\n",
    "    periodico_classe    varchar,\n",
    "    periodico_issn_scielo    varchar,\n",
    "    periodico_cod    varchar,\n",
    "    periodico_sigla    varchar,\n",
    "    periodico_nome    varchar,\n",
    "    periodico_qualis_cp    varchar,\n",
    "    periodico_area    varchar,\n",
    "    periodico_instituicao    varchar,\n",
    "    periodico_cod_instituicao    varchar,\n",
    "    periodico_cidade_da_instituicao    varchar,\n",
    "    periodico_cod_cidade    varchar,\n",
    "    \n",
    "    -- ARTIGO\n",
    "    artigo_titulo    varchar,\n",
    "    artigo_ano    varchar,\n",
    "    artigo_ano_capes varchar,\n",
    "    artigo_ano_capes_periodo varchar,\n",
    "    artigo_tipo    varchar,\n",
    "    artigo_n_autores    varchar,\n",
    "    artigo_n_autores_descricao    varchar,\n",
    "    artigo_n_paginas    varchar,\n",
    "    artigo_n_referencias   varchar,\n",
    "    artigo_acessos_ao_html varchar, \n",
    "    artigo_acessos_ao_pdf varchar, \n",
    "    artigo_area_tematica varchar,\n",
    "    artigo_link_html varchar,\n",
    "    \n",
    "    -- AUTORES\n",
    "    bolsistas_pq varchar, \n",
    "    \n",
    "    autor_1_nome varchar,\n",
    "    autor_1_pq  varchar,\n",
    "    autor_1_vinculo_institucional varchar,\n",
    "    autor_1_sexo varchar,\n",
    "    autor_1_docente varchar,\n",
    "\n",
    "    autor_2_nome varchar,\n",
    "    autor_2_pq  varchar,\n",
    "    autor_2_vinculo_institucional varchar,\n",
    "    autor_2_sexo varchar,\n",
    "    autor_2_docente varchar,\n",
    "\n",
    "    autor_3_nome varchar,\n",
    "    autor_3_pq  varchar,\n",
    "    autor_3_vinculo_institucional varchar,\n",
    "    autor_3_sexo varchar,\n",
    "    autor_3_docente varchar,\n",
    "\n",
    "    autor_4_nome varchar,\n",
    "    autor_4_pq  varchar,\n",
    "    autor_4_vinculo_institucional varchar,\n",
    "    autor_4_sexo varchar,\n",
    "    autor_4_docente varchar,\n",
    "\n",
    "    autor_5_nome varchar,\n",
    "    autor_5_pq  varchar,\n",
    "    autor_5_vinculo_institucional varchar,\n",
    "    autor_5_sexo varchar,\n",
    "    autor_5_docente varchar,\n",
    "\n",
    "    autor_6_nome varchar,\n",
    "    autor_6_pq  varchar,\n",
    "    autor_6_vinculo_institucional varchar,\n",
    "    autor_6_sexo varchar,\n",
    "    autor_6_docente varchar,\n",
    "\n",
    "    autor_7_nome varchar,\n",
    "    autor_7_pq  varchar,\n",
    "    autor_7_vinculo_institucional varchar,\n",
    "    autor_7_sexo varchar,\n",
    "    autor_7_docente varchar,\n",
    "\n",
    "    autor_8_nome varchar,\n",
    "    autor_8_pq  varchar,\n",
    "    autor_8_vinculo_institucional varchar,\n",
    "    autor_8_sexo varchar,\n",
    "    autor_8_docente varchar,\n",
    "\n",
    "    autor_9_nome varchar,\n",
    "    autor_9_pq  varchar,\n",
    "    autor_9_vinculo_institucional varchar,\n",
    "    autor_9_sexo varchar,\n",
    "    autor_9_docente varchar,\n",
    "\n",
    "    autor_10_nome varchar,\n",
    "    autor_10_pq  varchar,\n",
    "    autor_10_vinculo_institucional varchar,\n",
    "    autor_10_sexo varchar,\n",
    "    \n",
    "    -- DADOS XML\n",
    "    resumo text,\n",
    "    palavra_chave1 varchar,\n",
    "    palavra_chave2 varchar,\n",
    "    palavra_chave3 varchar,\n",
    "    palavra_chave4 varchar,\n",
    "    palavra_chave5 varchar,\n",
    "    empirico varchar,\n",
    "    tem_tabela varchar,\n",
    "    tem_quadro varchar,\n",
    "    tem_grafico varchar,\n",
    "    tem_diagrama varchar,\n",
    "    tem_figura varchar,\n",
    "    abstract text,\n",
    "    key_word1 varchar,\n",
    "    key_word2 varchar,\n",
    "    key_word3 varchar,\n",
    "    key_word4 varchar,\n",
    "    key_word5 varchar,\n",
    "    texto text   \n",
    ");\n",
    "\"\"\"    \n",
    "    \n",
    "    \n",
    "    \n",
    "%sql {query_create_table_artigos_selecionados}\n",
    "\n"
   ]
  },
  {
   "cell_type": "code",
   "execution_count": 6,
   "metadata": {},
   "outputs": [
    {
     "name": "stdout",
     "output_type": "stream",
     "text": [
      "7233 rows affected.\n",
      "Done.\n"
     ]
    },
    {
     "data": {
      "text/plain": [
       "[]"
      ]
     },
     "execution_count": 6,
     "metadata": {},
     "output_type": "execute_result"
    }
   ],
   "source": [
    "query_populate_alacip_artigos_selecionados= \"\"\"\n",
    "insert into alacip.artigos_selecionados  \n",
    "(\n",
    "data_extracao,\n",
    "scielo_id,\n",
    "periodico_classe,\n",
    "periodico_issn_scielo,\n",
    "periodico_cod,\n",
    "periodico_sigla,\n",
    "periodico_nome,\n",
    "periodico_qualis_cp,\n",
    "periodico_area,\n",
    "periodico_instituicao,\n",
    "periodico_cod_instituicao,\n",
    "periodico_cidade_da_instituicao,\n",
    "periodico_cod_cidade,\n",
    "artigo_titulo,\n",
    "artigo_ano,\n",
    "artigo_ano_capes,\n",
    "artigo_ano_capes_periodo,\n",
    "artigo_tipo,\n",
    "artigo_n_autores,\n",
    "artigo_n_autores_descricao,\n",
    "artigo_n_paginas,\n",
    "artigo_n_referencias,\n",
    "artigo_link_html\n",
    ")\n",
    "select \n",
    "\n",
    "d.document_extraction_date    as    data_extracao,\n",
    "d.document_publishing_id_scielo    as    scielo_id,\n",
    "      -- PERIODICO\n",
    "p.periodico_classe,\n",
    "p.periodico_issn_scielo,\n",
    "p.periodico_cod,\n",
    "p.periodico_sigla,\n",
    "p.periodico_nome,\n",
    "p.periodico_qualis_cp,\n",
    "p.periodico_area,\n",
    "p.periodico_instituicao,\n",
    "p.periodico_cod_instituicao,\n",
    "p.periodico_cidade_da_instituicao,\n",
    "p.periodico_cod_cidade,\n",
    "      -- ARTIGO\n",
    "'#NONE'    as    artigo_titulo,\n",
    "d.document_publishing_year    as    artigo_ano,\n",
    "'#NONE' as artigo_ano_capes,\n",
    "'#NONE' as artigo_ano_capes_periodo,\n",
    "d.document_type    as    artigo_tipo,\n",
    "d.document_authors    as    artigo_n_autores,\n",
    "'#NONE'    as    artigo_n_autores_descricao,\n",
    "document_pages    as    artigo_n_paginas,\n",
    "document_referencias    as    artigo_n_referencias,\n",
    "'#NONE' as artigo_link_html\n",
    "\n",
    "\n",
    "FROM \n",
    "  alacip.periodicos_selecionados as p\n",
    "left join\n",
    "  public.documents_counts as d\n",
    "on\n",
    "  d.document_publishing_year in \n",
    "    (\n",
    "    '2013','2014','2015','2016'\n",
    "    ,'2010','2011','2012'\n",
    "    ,'2007','2008','2009'\n",
    "    ,'2004','2005','2006'\n",
    "    ,'2001','2002','2003'\n",
    "    ,'1998','1999','2000'\n",
    "    ,'1995','1996','1997'\n",
    "    ) \n",
    "AND \n",
    "  d.document_issn_scielo = p.periodico_issn_scielo\n",
    "AND\n",
    "  d.document_type like 'research-article'\n",
    ";\n",
    "\n",
    "create index scielo_idx on alacip.artigos_selecionados(scielo_id);\n",
    "\"\"\"\n",
    "\n",
    "%sql {query_populate_alacip_artigos_selecionados}\n"
   ]
  },
  {
   "cell_type": "code",
   "execution_count": 7,
   "metadata": {},
   "outputs": [
    {
     "name": "stdout",
     "output_type": "stream",
     "text": [
      "7233 rows affected.\n",
      "7233 rows affected.\n"
     ]
    },
    {
     "data": {
      "text/plain": [
       "[]"
      ]
     },
     "execution_count": 7,
     "metadata": {},
     "output_type": "execute_result"
    }
   ],
   "source": [
    "query_update_ano_capes = \"\"\"\n",
    "update alacip.artigos_selecionados\n",
    "set artigo_ano_capes =\n",
    "  CASE WHEN artigo_ano in ('2013','2014','2015','2016') THEN '1'\n",
    "       WHEN artigo_ano in ('2010','2011','2012') THEN '2'\n",
    "       WHEN artigo_ano in ('2007','2008','2009') THEN '3' \n",
    "       WHEN artigo_ano in ('2004','2005','2006') THEN '4'\n",
    "       WHEN artigo_ano in ('2001','2002','2003') THEN '5'\n",
    "       WHEN artigo_ano in ('1998','1999','2000') THEN '6'  \n",
    "       WHEN artigo_ano in ('1995','1996','1997') THEN '7'  \n",
    "  END\n",
    ";\n",
    "\"\"\"\n",
    "\n",
    "%sql {query_update_ano_capes}\n",
    "\n",
    "query_update_ano_capes_periodo = \"\"\"\n",
    "update alacip.artigos_selecionados\n",
    "set artigo_ano_capes_periodo =\n",
    "  CASE WHEN artigo_ano in ('2013','2014','2015','2016') THEN '2013,2014,2015,2016'\n",
    "       WHEN artigo_ano in ('2010','2011','2012') THEN '2010,2011,2012'\n",
    "       WHEN artigo_ano in ('2007','2008','2009') THEN '2007,2008,2009' \n",
    "       WHEN artigo_ano in ('2004','2005','2006') THEN '2004,2005,2006'\n",
    "       WHEN artigo_ano in ('2001','2002','2003') THEN '2001,2002,2003'\n",
    "       WHEN artigo_ano in ('1998','1999','2000') THEN '1998,1999,2000'  \n",
    "       WHEN artigo_ano in ('1995','1996','1997') THEN '1995,1996,1997'  \n",
    "  END\n",
    ";\n",
    "\"\"\"\n",
    "\n",
    "%sql {query_update_ano_capes_periodo}"
   ]
  },
  {
   "cell_type": "code",
   "execution_count": 8,
   "metadata": {},
   "outputs": [
    {
     "name": "stdout",
     "output_type": "stream",
     "text": [
      "7233 rows affected.\n",
      "OK\n"
     ]
    }
   ],
   "source": [
    "query_update_n_autores_descricao = \"\"\"\n",
    "update alacip.artigos_selecionados\n",
    "set artigo_n_autores_descricao =\n",
    "  CASE WHEN artigo_n_autores like '1' THEN 'um autor'\n",
    "       WHEN artigo_n_autores like '2' THEN 'dois autores' \n",
    "       WHEN artigo_n_autores like '3' THEN 'três autores'\n",
    "       WHEN artigo_n_autores like '4' THEN 'quatro autores'\n",
    "       WHEN artigo_n_autores like '5' THEN 'cinco autores'\n",
    "       WHEN artigo_n_autores like '6' THEN 'seis autores'\n",
    "       WHEN artigo_n_autores like '7' THEN 'sete autores'\n",
    "       WHEN artigo_n_autores like '8' THEN 'oito autores'\n",
    "       WHEN artigo_n_autores like '9' THEN 'nove autores'\n",
    "       WHEN artigo_n_autores like '10' THEN 'dez autores'\n",
    "       WHEN artigo_n_autores like null  THEN 'não definido'\n",
    "       WHEN artigo_n_autores like ' '  THEN 'não definido'\n",
    "       WHEN artigo_n_autores like '0'  THEN 'não definido'\n",
    "       ELSE 'mais de dez autores'\n",
    "  END\n",
    ";\n",
    "\"\"\"\n",
    "\n",
    "%sql{query_update_n_autores_descricao}\n",
    "\n",
    "print(\"OK\")"
   ]
  },
  {
   "cell_type": "code",
   "execution_count": 9,
   "metadata": {},
   "outputs": [
    {
     "name": "stdout",
     "output_type": "stream",
     "text": [
      "7233 rows affected.\n"
     ]
    },
    {
     "data": {
      "text/plain": [
       "[]"
      ]
     },
     "execution_count": 9,
     "metadata": {},
     "output_type": "execute_result"
    }
   ],
   "source": [
    "query_create_coluna_link_html = \"\"\"\n",
    "update alacip.artigos_selecionados\n",
    "set artigo_link_html = 'http://www.scielo.br/scielo.php?script=sci_arttext&pid='||scielo_id\n",
    ";\n",
    "\"\"\"\n",
    "\n",
    "%sql {query_create_coluna_link_html}"
   ]
  },
  {
   "cell_type": "code",
   "execution_count": null,
   "metadata": {
    "collapsed": true
   },
   "outputs": [],
   "source": []
  }
 ],
 "metadata": {
  "kernelspec": {
   "display_name": "Python 3",
   "language": "python",
   "name": "python3"
  },
  "language_info": {
   "codemirror_mode": {
    "name": "ipython",
    "version": 3
   },
   "file_extension": ".py",
   "mimetype": "text/x-python",
   "name": "python",
   "nbconvert_exporter": "python",
   "pygments_lexer": "ipython3",
   "version": "3.6.2"
  }
 },
 "nbformat": 4,
 "nbformat_minor": 2
}
