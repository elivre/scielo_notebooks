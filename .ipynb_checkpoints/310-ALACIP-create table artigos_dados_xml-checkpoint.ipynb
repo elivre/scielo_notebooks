{
 "cells": [
  {
   "cell_type": "code",
   "execution_count": 5,
   "metadata": {},
   "outputs": [
    {
     "name": "stderr",
     "output_type": "stream",
     "text": [
      "/home/neilor/anaconda3/lib/python3.6/site-packages/IPython/config.py:13: ShimWarning: The `IPython.config` package has been deprecated since IPython 4.0. You should import from traitlets.config instead.\n",
      "  \"You should import from traitlets.config instead.\", ShimWarning)\n",
      "/home/neilor/anaconda3/lib/python3.6/site-packages/sql/magic.py:4: UserWarning: IPython.utils.traitlets has moved to a top-level traitlets package.\n",
      "  from IPython.utils.traitlets import Bool, Int, Unicode\n"
     ]
    },
    {
     "data": {
      "text/plain": [
       "'Connected: neilor@scielo_db'"
      ]
     },
     "execution_count": 5,
     "metadata": {},
     "output_type": "execute_result"
    }
   ],
   "source": [
    "local_dir = '/home/neilor/SCIELO_DADOS/alacip/'\n",
    "xml_dir = local_dir+'artigos_xml/'\n",
    "connect_cmd = \"dbname='scielo_db' user='neilor' host='localhost' password='n1f2c3n1'\"\n",
    "%load_ext sql\n",
    "%sql postgresql://neilor:n1f2c3n1@/scielo_db"
   ]
  },
  {
   "cell_type": "code",
   "execution_count": 6,
   "metadata": {
    "collapsed": true
   },
   "outputs": [],
   "source": [
    "import time\n",
    "import os\n",
    "import pandas as pd\n",
    "import psycopg2 as pg\n",
    "from pathlib import Path\n",
    "from lxml import etree\n",
    "from xml.etree.ElementTree import ParseError"
   ]
  },
  {
   "cell_type": "markdown",
   "metadata": {},
   "source": [
    "### Criação de uma tabela com os dados extraídos dos arquivos .xml de cada artigo selecionado"
   ]
  },
  {
   "cell_type": "code",
   "execution_count": 7,
   "metadata": {},
   "outputs": [
    {
     "name": "stdout",
     "output_type": "stream",
     "text": [
      "Done.\n",
      "Done.\n",
      "Done.\n"
     ]
    },
    {
     "data": {
      "text/plain": [
       "[]"
      ]
     },
     "execution_count": 7,
     "metadata": {},
     "output_type": "execute_result"
    }
   ],
   "source": [
    "query_create_table_artigos_dados_xml = \"\"\"\n",
    "drop table if exists alacip.artigos_dados_xml;\n",
    "create table alacip.artigos_dados_xml\n",
    "(\n",
    "    scielo_id varchar,\n",
    "    titulo text,\n",
    "    resumo text,\n",
    "    palavra_chave1 varchar,\n",
    "    palavra_chave2 varchar,\n",
    "    palavra_chave3 varchar,\n",
    "    palavra_chave4 varchar,\n",
    "    palavra_chave5 varchar,\n",
    "    empirico varchar,\n",
    "    tem_tabela varchar,\n",
    "    tem_quadro varchar,\n",
    "    tem_grafico varchar,\n",
    "    tem_diagrama varchar,\n",
    "    tem_figura varchar,\n",
    "    abstract text,\n",
    "    key_word1 varchar,\n",
    "    key_word2 varchar,\n",
    "    key_word3 varchar,\n",
    "    key_word4 varchar,\n",
    "    key_word5 varchar,\n",
    "    texto text\n",
    ");\n",
    "\n",
    "CREATE INDEX texto_idx ON alacip.artigos_dados_xml USING GIN (to_tsvector('portuguese', texto));\n",
    "\"\"\"\n",
    "\n",
    "%sql {query_create_table_artigos_dados_xml}\n"
   ]
  },
  {
   "cell_type": "markdown",
   "metadata": {},
   "source": [
    "### Gera comando SQL para inclusão dos dados obtidos do arquivo .xml na tabela criada"
   ]
  },
  {
   "cell_type": "code",
   "execution_count": 5,
   "metadata": {
    "collapsed": true
   },
   "outputs": [],
   "source": [
    "import string as str\n",
    "\n",
    "def sql_palavras_chave(palavras):\n",
    "    n = len(palavras)\n",
    "    pch = [\"''\",\"''\",\"''\",\"''\",\"''\"]\n",
    "    for i in range(0,5):\n",
    "        if i<n:\n",
    "            palavra = palavras[i]\n",
    "            palavra = palavra.replace(\"'\", \"''\")\n",
    "            pch[i]=(\"'\"+palavra+\"'\")\n",
    "    return (\",\".join(pch))\n",
    "\n",
    "def sql_key_words(palavras):\n",
    "    n = len(palavras)\n",
    "    pch = [\"''\",\"''\",\"''\",\"''\",\"''\"]\n",
    "    for i in range(0,5):\n",
    "        if i<n:\n",
    "            palavra = palavras[i]\n",
    "            palavra = palavra.replace(\"'\", \"''\")\n",
    "            pch[i]=(\"'\"+palavra+\"'\")\n",
    "    return (\",\".join(pch))\n",
    "\n",
    "\n",
    "def query_insert_dados_artigo_xml(scielo_id,arq_xml):\n",
    "    try:\n",
    "        tree = etree.parse(arq_xml)\n",
    "        titulo = get_title(tree)\n",
    "        titulo = titulo.replace(\"'\", \"''\")\n",
    "        \n",
    "        resumo = get_resumo(tree)\n",
    "        resumo = resumo.replace(\"'\", \"''\")\n",
    "        \n",
    "        abstract = get_abstract(tree)\n",
    "        abstract = abstract.replace(\"'\", \"''\")\n",
    "        #print(abstract)\n",
    "        palavras_chave = get_palavras_chave(tree)\n",
    "        #print(palavras_chave)\n",
    "        palavras = sql_palavras_chave(palavras_chave)\n",
    "        #print(palavras)\n",
    "        \n",
    "        key_words = get_key_words(tree)\n",
    "        #print(key_words)\n",
    "        words = sql_key_words(key_words)\n",
    "        #print(words)\n",
    "        \n",
    "        values = \"'\"+scielo_id+\"'\"+\",'\"+titulo+\"'\"+\",'\"+resumo+\"'\"+\",\"+palavras+\",'\"+abstract+\"'\"+\",\"+words\n",
    "        #print(values)\n",
    "        sql = \"insert into alacip.artigos_dados_xml  \\\n",
    "        (scielo_id,titulo,resumo,\\\n",
    "        palavra_chave1,palavra_chave2,palavra_chave3,palavra_chave4,palavra_chave5, \\\n",
    "        abstract,key_word1,key_word2,key_word3,key_word4,key_word5) values (\"+values+\");\"\n",
    "\n",
    "    except (etree.XMLSyntaxError, etree.ParseError):\n",
    "        sql = \"insert into alacip.artigos_dados_xml values (\"+\"'\"+scielo_id+\"','XML Invalido','','','');\"\n",
    "    return sql\n",
    "\n"
   ]
  },
  {
   "cell_type": "code",
   "execution_count": 26,
   "metadata": {},
   "outputs": [],
   "source": [
    "import scielo_xml as xml\n",
    "import string as str\n",
    "\n",
    "\n",
    "def sql_palavras_chave(palavras):\n",
    "    n = len(palavras)\n",
    "    pch = [\"''\",\"''\",\"''\",\"''\",\"''\"]\n",
    "    for i in range(0,5):\n",
    "        if i<n:\n",
    "            palavra = palavras[i]\n",
    "            palavra = palavra.replace(\"'\", \"''\")\n",
    "            pch[i]=(\"'\"+palavra+\"'\")\n",
    "    return (\",\".join(pch))\n",
    "\n",
    "def sql_key_words(palavras):\n",
    "    n = len(palavras)\n",
    "    pch = [\"''\",\"''\",\"''\",\"''\",\"''\"]\n",
    "    for i in range(0,5):\n",
    "        if i<n:\n",
    "            palavra = palavras[i]\n",
    "            palavra = palavra.replace(\"'\", \"''\")\n",
    "            pch[i]=(\"'\"+palavra+\"'\")\n",
    "    return (\",\".join(pch))\n",
    "\n",
    "\n",
    "def query_insert_dados_artigo_xml(scielo_id,arq_xml):\n",
    "    try:\n",
    "        xml = sci.parse_xml(arq_xml)\n",
    "        titulo = xml.get_title()['title']\n",
    "        titulo = titulo.replace(\"'\", \"''\")\n",
    "        \n",
    "        resumo = xml.get_resumo()['resumo']\n",
    "        resumo = resumo.replace(\"'\", \"''\")\n",
    "        \n",
    "        abstract = xml.get_abstract()['abstract']\n",
    "        abstract = abstract.replace(\"'\", \"''\")\n",
    "        #print(abstract)\n",
    "        palavras_chave = xml.get_palavras_chave()['palavras_chave']\n",
    "        #print(palavras_chave)\n",
    "        palavras = sql_palavras_chave(palavras_chave)\n",
    "        #print(palavras)\n",
    "        \n",
    "        key_words = xml.get_keywords()['keywords']\n",
    "        #print(key_words)\n",
    "        words = sql_key_words(key_words)\n",
    "        #print(words)\n",
    "        \n",
    "        values = \"'\"+scielo_id+\"'\"+\",'\"+titulo+\"'\"+\",'\"+resumo+\"'\"+\",\"+palavras+\",'\"+abstract+\"'\"+\",\"+words\n",
    "        #print(values)\n",
    "        sql = \"insert into alacip.artigos_dados_xml  \\\n",
    "        (scielo_id,titulo,resumo,\\\n",
    "        palavra_chave1,palavra_chave2,palavra_chave3,palavra_chave4,palavra_chave5, \\\n",
    "        abstract,key_word1,key_word2,key_word3,key_word4,key_word5) values (\"+values+\");\"\n",
    "\n",
    "    except (etree.XMLSyntaxError, etree.ParseError):\n",
    "        sql = \"insert into alacip.artigos_dados_xml values (\"+\"'\"+scielo_id+\"','XML Invalido','','','');\"\n",
    "    return sql\n",
    "\n"
   ]
  },
  {
   "cell_type": "markdown",
   "metadata": {},
   "source": [
    "### Obtêm o arquivo .xml de cada artigo selecionado e procede a inclusão na tabela"
   ]
  },
  {
   "cell_type": "code",
   "execution_count": 27,
   "metadata": {},
   "outputs": [
    {
     "name": "stdout",
     "output_type": "stream",
     "text": [
      "OK\n"
     ]
    }
   ],
   "source": [
    "\n",
    "query_artigos = \"select scielo_id from alacip.artigos_selecionados\"\n",
    "\n",
    "conn = pg.connect(\"dbname='scielo_db' user='neilor' host='localhost' password='n1f2c3n1'\")\n",
    "df = pd.read_sql_query(query_artigos, conn)\n",
    "\n",
    "\n",
    "\n",
    "os.chdir(xml_dir)\n",
    "\n",
    "for scielo_id in df['scielo_id']:\n",
    "    xml_file = xml_dir+'/'+scielo_id +'.xml'\n",
    "    file_path = Path(xml_file)\n",
    "    #print(scielo_id)\n",
    "    query = query_insert_dados_artigo_xml(scielo_id,xml_file)\n",
    "    #print(values)\n",
    "    #rint(query)\n",
    "    with conn:\n",
    "        with conn.cursor() as curs:\n",
    "            curs.execute(query)\n",
    "    \n",
    "conn.close()\n",
    "print(\"OK\")\n",
    "\n"
   ]
  },
  {
   "cell_type": "markdown",
   "metadata": {},
   "source": [
    "### Atualiza marcador de artigo empírico na tabela"
   ]
  },
  {
   "cell_type": "code",
   "execution_count": 28,
   "metadata": {},
   "outputs": [
    {
     "name": "stdout",
     "output_type": "stream",
     "text": [
      "OK\n"
     ]
    }
   ],
   "source": [
    "query_update_tem_elemento_empirico = \"\"\"\n",
    "update alacip.artigos_dados_xml\n",
    "set tem_tabela = '0',\n",
    "    tem_quadro = '0',\n",
    "    tem_grafico = '0',\n",
    "    tem_diagrama = '0',\n",
    "    tem_figura = '0',\n",
    "    empirico = '0'\n",
    ";\n",
    "\n",
    "update alacip.artigos_dados_xml\n",
    "set tem_tabela = '1'\n",
    "WHERE to_tsvector('portuguese', texto) @@ to_tsquery('portuguese', 'tabela')\n",
    ";\n",
    "\n",
    "update alacip.artigos_dados_xml\n",
    "set tem_tabela = '1'\n",
    "WHERE to_tsvector('english', texto) @@ to_tsquery('english', 'table')\n",
    ";\n",
    "\n",
    "update alacip.artigos_dados_xml\n",
    "set tem_grafico = '1'\n",
    "WHERE to_tsvector('portuguese', texto) @@ to_tsquery('portuguese', 'grafico' || 'grafo')\n",
    ";\n",
    "\n",
    "update alacip.artigos_dados_xml\n",
    "set tem_grafico = '1'\n",
    "WHERE to_tsvector('english', texto) @@ to_tsquery('english', 'graphic' || 'plot' || 'graph')\n",
    ";\n",
    "\n",
    "update alacip.artigos_dados_xml\n",
    "set tem_quadro = '1'\n",
    "WHERE to_tsvector('portuguese', texto) @@ to_tsquery('portuguese', 'quadro')\n",
    ";\n",
    "\n",
    "update alacip.artigos_dados_xml\n",
    "set tem_diagrama = '1'\n",
    "WHERE to_tsvector('portuguese', texto) @@ to_tsquery('portuguese', 'diagrama')\n",
    ";\n",
    "\n",
    "update alacip.artigos_dados_xml\n",
    "set tem_diagrama = '1'\n",
    "WHERE to_tsvector('english', texto) @@ to_tsquery('english', 'diagram' || 'chart' )\n",
    ";\n",
    "\n",
    "update alacip.artigos_dados_xml\n",
    "set tem_figura = '1'\n",
    "WHERE to_tsvector('portuguese', texto) @@ to_tsquery('portuguese', 'figura')\n",
    ";\n",
    "\n",
    "update alacip.artigos_dados_xml\n",
    "set empirico = '1' \n",
    "where tem_tabela = '1' or tem_quadro = '1' or tem_diagrama = '1' or tem_figura = '1'\n",
    ";\n",
    "\n",
    "\"\"\"\n",
    "\n",
    "conn = pg.connect(\"dbname='scielo_db' user='neilor' host='localhost' password='n1f2c3n1'\")\n",
    "with conn:\n",
    "    with conn.cursor() as curs:\n",
    "        curs.execute(query_update_tem_elemento_empirico)\n",
    "        conn.commit()\n",
    "print(\"OK\")\n"
   ]
  },
  {
   "cell_type": "markdown",
   "metadata": {
    "collapsed": true
   },
   "source": [
    "## Atualiza a tabela artigos selecionados com os dados XML"
   ]
  },
  {
   "cell_type": "code",
   "execution_count": 29,
   "metadata": {},
   "outputs": [
    {
     "name": "stdout",
     "output_type": "stream",
     "text": [
      "7233 rows affected.\n"
     ]
    },
    {
     "data": {
      "text/plain": [
       "[]"
      ]
     },
     "execution_count": 29,
     "metadata": {},
     "output_type": "execute_result"
    }
   ],
   "source": [
    "query_update_artigos = \"\"\"\n",
    "with dados_xml as\n",
    "(select \n",
    "    scielo_id  ,\n",
    "    titulo,\n",
    "    resumo,\n",
    "    palavra_chave1  ,\n",
    "    palavra_chave2  ,\n",
    "    palavra_chave3  ,\n",
    "    palavra_chave4  ,\n",
    "    palavra_chave5  ,\n",
    "    empirico  ,\n",
    "    tem_tabela  ,\n",
    "    tem_quadro  ,\n",
    "    tem_grafico  ,\n",
    "    tem_diagrama  ,\n",
    "    tem_figura  ,\n",
    "    abstract,\n",
    "    key_word1  ,\n",
    "    key_word2  ,\n",
    "    key_word3  ,\n",
    "    key_word4  ,\n",
    "    key_word5  ,\n",
    "    texto \n",
    " \n",
    "from\n",
    "    alacip.artigos_dados_xml\n",
    ")\n",
    "\n",
    "update alacip.artigos_selecionados as a\n",
    "set\n",
    "  resumo = x.resumo,\n",
    "  palavra_chave1 = x.palavra_chave1 ,\n",
    "  palavra_chave2 = x.palavra_chave2 ,\n",
    "  palavra_chave3 = x.palavra_chave3 ,\n",
    "  palavra_chave4 = x.palavra_chave4 ,\n",
    "  palavra_chave5 = x.palavra_chave5 ,\n",
    "  empirico = x.empirico ,\n",
    "  tem_tabela = x.tem_tabela ,\n",
    "  tem_quadro = x.tem_quadro ,\n",
    "  tem_grafico = x.tem_grafico ,\n",
    "  tem_diagrama = x.tem_diagrama ,\n",
    "  tem_figura = x.tem_figura ,\n",
    "  abstract = x.abstract ,\n",
    "  key_word1 = x.key_word1 ,\n",
    "  key_word2 = x.key_word2 ,\n",
    "  key_word3 = x.key_word3 ,\n",
    "  key_word4 = x.key_word4 ,\n",
    "  key_word5 = x.key_word5 ,\n",
    "  texto = x.texto\n",
    "from \n",
    "    dados_xml as x\n",
    "where \n",
    "    a.scielo_id like x.scielo_id\n",
    ";\n",
    "\"\"\"\n",
    "\n",
    "%sql {query_update_artigos}"
   ]
  },
  {
   "cell_type": "code",
   "execution_count": null,
   "metadata": {
    "collapsed": true
   },
   "outputs": [],
   "source": []
  }
 ],
 "metadata": {
  "kernelspec": {
   "display_name": "Python 3",
   "language": "python",
   "name": "python3"
  },
  "language_info": {
   "codemirror_mode": {
    "name": "ipython",
    "version": 3
   },
   "file_extension": ".py",
   "mimetype": "text/x-python",
   "name": "python",
   "nbconvert_exporter": "python",
   "pygments_lexer": "ipython3",
   "version": "3.6.2"
  }
 },
 "nbformat": 4,
 "nbformat_minor": 2
}
