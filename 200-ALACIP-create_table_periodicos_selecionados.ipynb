{
 "cells": [
  {
   "cell_type": "markdown",
   "metadata": {},
   "source": [
    "## CRIA TABELA COM PERIÓDICOS SELECIONADOS"
   ]
  },
  {
   "cell_type": "code",
   "execution_count": 9,
   "metadata": {},
   "outputs": [
    {
     "name": "stdout",
     "output_type": "stream",
     "text": [
      "The sql extension is already loaded. To reload it, use:\n",
      "  %reload_ext sql\n"
     ]
    }
   ],
   "source": [
    "connect_cmd = \"dbname='scielo_db' user='neilor' host='localhost' password='n1f2c3n1'\"\n",
    "%load_ext sql\n",
    "%sql postgresql://neilor:n1f2c3n1@/scielo_db\n",
    "import psycopg2 as pg\n",
    "import os\n",
    "        "
   ]
  },
  {
   "cell_type": "code",
   "execution_count": 12,
   "metadata": {},
   "outputs": [
    {
     "name": "stdout",
     "output_type": "stream",
     "text": [
      "Done.\n",
      "Done.\n",
      "14 rows affected.\n"
     ]
    },
    {
     "data": {
      "text/plain": [
       "[]"
      ]
     },
     "execution_count": 12,
     "metadata": {},
     "output_type": "execute_result"
    }
   ],
   "source": [
    "query_create_table_periodicos_selecionados = \"\"\"\n",
    "drop table if exists alacip.periodicos_selecionados;\n",
    "create table alacip.periodicos_selecionados\n",
    "(\n",
    "    periodico_classe varchar,\n",
    "    periodico_issn_scielo varchar,\n",
    "    periodico_cod varchar,\n",
    "    periodico_sigla varchar,\n",
    "    periodico_nome varchar,\n",
    "    periodico_qualis_cp varchar,\n",
    "    periodico_area varchar,\n",
    "    periodico_instituicao varchar,\n",
    "    periodico_cod_instituicao varchar,\n",
    "    periodico_cidade_da_instituicao varchar,\n",
    "    periodico_cod_cidade varchar\n",
    ");\n",
    "\"\"\"\n",
    "\n",
    "%sql {query_create_table_periodicos_selecionados}\n",
    " \n",
    "arq_csv = os.getcwd()+'/dados/periodicos_selecionados.csv'\n",
    "\n",
    "copy_csv = \"\"\"\n",
    "COPY alacip.periodicos_selecionados FROM '%s' WITH\n",
    "(\n",
    "    FORMAT CSV,\n",
    "    DELIMITER ';',\n",
    "    NULL '#NONE',\n",
    "    HEADER true,\n",
    "    QUOTE '\"',\n",
    "    ENCODING 'UTF-8'\n",
    ");\n",
    "\"\"\"\n",
    "%sql {copy_csv % arq_csv}\n",
    "\n"
   ]
  },
  {
   "cell_type": "code",
   "execution_count": null,
   "metadata": {},
   "outputs": [],
   "source": []
  }
 ],
 "metadata": {
  "kernelspec": {
   "display_name": "Python 3",
   "language": "python",
   "name": "python3"
  },
  "language_info": {
   "codemirror_mode": {
    "name": "ipython",
    "version": 3
   },
   "file_extension": ".py",
   "mimetype": "text/x-python",
   "name": "python",
   "nbconvert_exporter": "python",
   "pygments_lexer": "ipython3",
   "version": "3.7.3"
  }
 },
 "nbformat": 4,
 "nbformat_minor": 2
}
