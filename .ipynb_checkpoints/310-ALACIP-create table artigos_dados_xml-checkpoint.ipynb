{
 "cells": [
  {
   "cell_type": "markdown",
   "metadata": {},
   "source": [
    "### Cria tabela artigos_dados_xml para conter os dados extraídos dos arquivos .xml de cada artigo selecionado"
   ]
  },
  {
   "cell_type": "markdown",
   "metadata": {},
   "source": [
    "### http://docs.scielo.org/projects/scielo-publishing-schema/pt_BR/1.6-branch/"
   ]
  },
  {
   "cell_type": "code",
   "execution_count": 7,
   "metadata": {},
   "outputs": [],
   "source": [
    "local_dir = '/home/neilor/DADOS_SCIELO/alacip/'\n",
    "xml_dir = local_dir+'artigos_xml/'\n",
    "import scielo_mod as smod"
   ]
  },
  {
   "cell_type": "code",
   "execution_count": 8,
   "metadata": {
    "collapsed": true
   },
   "outputs": [],
   "source": [
    "import time\n",
    "import os\n",
    "import pandas as pd\n",
    "import psycopg2 as pg\n",
    "from pathlib import Path\n",
    "from lxml import etree\n",
    "from xml.etree.ElementTree import ParseError\n",
    "import scielo_xml as sci"
   ]
  },
  {
   "cell_type": "code",
   "execution_count": 9,
   "metadata": {},
   "outputs": [],
   "source": [
    "query_create_table_artigos_dados_xml = \"\"\"\n",
    "drop table if exists alacip.artigos_dados_xml;\n",
    "create table alacip.artigos_dados_xml\n",
    "(\n",
    "    scielo_id varchar,\n",
    "    titulo text,\n",
    "    resumo text,\n",
    "    palavra_chave1 varchar,\n",
    "    palavra_chave2 varchar,\n",
    "    palavra_chave3 varchar,\n",
    "    palavra_chave4 varchar,\n",
    "    palavra_chave5 varchar,\n",
    "    empirico varchar,\n",
    "    tem_tabela varchar,\n",
    "    tem_quadro varchar,\n",
    "    tem_grafico varchar,\n",
    "    tem_diagrama varchar,\n",
    "    tem_figura varchar,\n",
    "    abstract text,\n",
    "    key_word1 varchar,\n",
    "    key_word2 varchar,\n",
    "    key_word3 varchar,\n",
    "    key_word4 varchar,\n",
    "    key_word5 varchar,\n",
    "    texto text\n",
    ");\n",
    "\n",
    "CREATE INDEX texto_pt_idx ON alacip.artigos_dados_xml USING GIN (to_tsvector('portuguese', texto));\n",
    "\"\"\"\n",
    "\n",
    "smod.execute_query(query_create_table_artigos_dados_xml)\n"
   ]
  },
  {
   "cell_type": "markdown",
   "metadata": {},
   "source": [
    "### Gera comando SQL para inclusão dos dados do arquivo .xml na tabela dados_xml"
   ]
  },
  {
   "cell_type": "code",
   "execution_count": 24,
   "metadata": {
    "collapsed": true
   },
   "outputs": [],
   "source": [
    "import scielo_xml as xml\n",
    "import string as str\n",
    "\n",
    "\n",
    "def sql_palavras_chave(palavras):\n",
    "    n = len(palavras)\n",
    "    pch = [\"''\",\"''\",\"''\",\"''\",\"''\"]\n",
    "    for i in range(0,5):\n",
    "        if i<n:\n",
    "            palavra = palavras[i]\n",
    "            palavra = palavra.replace(\"'\", \"''\")\n",
    "            pch[i]=(\"'\"+palavra+\"'\")\n",
    "    return (\",\".join(pch))\n",
    "\n",
    "def sql_key_words(palavras):\n",
    "    n = len(palavras)\n",
    "    pch = [\"''\",\"''\",\"''\",\"''\",\"''\"]\n",
    "    for i in range(0,5):\n",
    "        if i<n:\n",
    "            palavra = palavras[i]\n",
    "            palavra = palavra.replace(\"'\", \"''\")\n",
    "            pch[i]=(\"'\"+palavra+\"'\")\n",
    "    return (\",\".join(pch))\n",
    "\n",
    "def read_xml_text(arq_xml):\n",
    "    f=open(arq_xml,'r',encoding='latin1')\n",
    "    t=f.read()\n",
    "    f.close()\n",
    "    return t\n",
    "\n",
    "\n",
    "def query_insert_dados_artigo_xml(scielo_id,arq_xml):\n",
    "    try:\n",
    "        xml = sci.parse_xml(arq_xml)\n",
    "        titulo = xml.get_title()['title']\n",
    "        titulo = titulo.replace(\"'\", \"''\")\n",
    "        \n",
    "        resumo = xml.get_resumo()['resumo']\n",
    "        resumo = resumo.replace(\"'\", \"''\")\n",
    "        \n",
    "        abstract = xml.get_abstract()['abstract']\n",
    "        abstract = abstract.replace(\"'\", \"''\")\n",
    "\n",
    "        palavras_chave = xml.get_palavras_chave()['palavras_chave']\n",
    "\n",
    "        palavras = sql_palavras_chave(palavras_chave)\n",
    "        \n",
    "        key_words = xml.get_keywords()['keywords']\n",
    "\n",
    "        words = sql_key_words(key_words)\n",
    "        \n",
    "        texto = get_texto(xml)\n",
    "        texto = texto.replace(\"'\", \"''\")\n",
    "        \n",
    "        #texto_xml = read_xml_text(arq_xml)\n",
    "        #texto_xml = texto_xml.replace(\"'\",\"''\")\n",
    "        \n",
    "        values = f\"\"\"'{scielo_id}','{titulo}','{resumo}',{palavras},'{abstract}',{words},'{texto}'\"\"\"\n",
    "\n",
    "        sql = f\"\"\"insert into alacip.artigos_dados_xml  \n",
    "                (scielo_id,titulo,resumo,\n",
    "                 palavra_chave1,\n",
    "                 palavra_chave2,\n",
    "                 palavra_chave3,\n",
    "                 palavra_chave4,\n",
    "                 palavra_chave5, \n",
    "                 abstract,\n",
    "                 key_word1,\n",
    "                 key_word2,\n",
    "                 key_word3,\n",
    "                 key_word4,\n",
    "                 key_word5,\n",
    "                 texto)\n",
    "                 values ({values});\n",
    "        \"\"\"\n",
    "\n",
    "    except (etree.XMLSyntaxError, etree.ParseError):\n",
    "        sql = \"insert into alacip.artigos_dados_xml values (\"+\"'\"+scielo_id+\"','XML Invalido','','','','');\"\n",
    "    return sql\n",
    "\n"
   ]
  },
  {
   "cell_type": "markdown",
   "metadata": {},
   "source": [
    "### Obtêm o arquivo .xml de cada artigo selecionado e procede a inclusão na tabela dados_xml"
   ]
  },
  {
   "cell_type": "code",
   "execution_count": 25,
   "metadata": {},
   "outputs": [
    {
     "name": "stdout",
     "output_type": "stream",
     "text": [
      "OK\n"
     ]
    }
   ],
   "source": [
    "\n",
    "query_artigos = \"select scielo_id from alacip.artigos_selecionados\"\n",
    "\n",
    "df = smod.pandas_query(query_artigos)\n",
    "\n",
    "\n",
    "\n",
    "os.chdir(xml_dir)\n",
    "\n",
    "for scielo_id in df['scielo_id']:\n",
    "    xml_file = xml_dir+'/'+scielo_id +'.xml'\n",
    "    file_path = Path(xml_file)\n",
    "\n",
    "    query = query_insert_dados_artigo_xml(scielo_id,xml_file)\n",
    "\n",
    "    smod.execute_query(query)\n",
    "\n",
    "print(\"OK\")\n",
    "\n"
   ]
  },
  {
   "cell_type": "markdown",
   "metadata": {},
   "source": [
    "### Atualiza marcador de artigo empírico na tabela dados_xml"
   ]
  },
  {
   "cell_type": "code",
   "execution_count": 26,
   "metadata": {},
   "outputs": [
    {
     "ename": "UndefinedColumn",
     "evalue": "column \"texto\" does not exist\nLINE 13: WHERE to_tsvector('portuguese', texto) @@ to_tsquery('portug...\n                                         ^\n",
     "output_type": "error",
     "traceback": [
      "\u001b[0;31m---------------------------------------------------------------------------\u001b[0m",
      "\u001b[0;31mUndefinedColumn\u001b[0m                           Traceback (most recent call last)",
      "\u001b[0;32m<ipython-input-26-aec1b8fd50e9>\u001b[0m in \u001b[0;36m<module>\u001b[0;34m\u001b[0m\n\u001b[1;32m     56\u001b[0m \"\"\"\n\u001b[1;32m     57\u001b[0m \u001b[0;34m\u001b[0m\u001b[0m\n\u001b[0;32m---> 58\u001b[0;31m \u001b[0msmod\u001b[0m\u001b[0;34m.\u001b[0m\u001b[0mexecute_query\u001b[0m\u001b[0;34m(\u001b[0m\u001b[0mquery_update_tem_elemento_empirico\u001b[0m\u001b[0;34m)\u001b[0m\u001b[0;34m\u001b[0m\u001b[0;34m\u001b[0m\u001b[0m\n\u001b[0m\u001b[1;32m     59\u001b[0m \u001b[0;34m\u001b[0m\u001b[0m\n\u001b[1;32m     60\u001b[0m \u001b[0mprint\u001b[0m\u001b[0;34m(\u001b[0m\u001b[0;34m\"OK\"\u001b[0m\u001b[0;34m)\u001b[0m\u001b[0;34m\u001b[0m\u001b[0;34m\u001b[0m\u001b[0m\n",
      "\u001b[0;32m~/Dropbox/NOTEBOOKS/scielo_notebooks/scielo_mod.py\u001b[0m in \u001b[0;36mexecute_query\u001b[0;34m(query)\u001b[0m\n\u001b[1;32m     51\u001b[0m     \u001b[0mconn\u001b[0m\u001b[0;34m=\u001b[0m\u001b[0mpg\u001b[0m\u001b[0;34m.\u001b[0m\u001b[0mconnect\u001b[0m\u001b[0;34m(\u001b[0m\u001b[0mconnect_cmd\u001b[0m\u001b[0;34m)\u001b[0m\u001b[0;34m\u001b[0m\u001b[0;34m\u001b[0m\u001b[0m\n\u001b[1;32m     52\u001b[0m     \u001b[0mcur\u001b[0m \u001b[0;34m=\u001b[0m \u001b[0mconn\u001b[0m\u001b[0;34m.\u001b[0m\u001b[0mcursor\u001b[0m\u001b[0;34m(\u001b[0m\u001b[0;34m)\u001b[0m\u001b[0;34m\u001b[0m\u001b[0;34m\u001b[0m\u001b[0m\n\u001b[0;32m---> 53\u001b[0;31m     \u001b[0mcur\u001b[0m\u001b[0;34m.\u001b[0m\u001b[0mexecute\u001b[0m\u001b[0;34m(\u001b[0m\u001b[0mquery\u001b[0m\u001b[0;34m)\u001b[0m\u001b[0;34m\u001b[0m\u001b[0;34m\u001b[0m\u001b[0m\n\u001b[0m\u001b[1;32m     54\u001b[0m     \u001b[0mconn\u001b[0m\u001b[0;34m.\u001b[0m\u001b[0mcommit\u001b[0m\u001b[0;34m(\u001b[0m\u001b[0;34m)\u001b[0m\u001b[0;34m\u001b[0m\u001b[0;34m\u001b[0m\u001b[0m\n\u001b[1;32m     55\u001b[0m     \u001b[0mcur\u001b[0m\u001b[0;34m.\u001b[0m\u001b[0mclose\u001b[0m\u001b[0;34m(\u001b[0m\u001b[0;34m)\u001b[0m\u001b[0;34m\u001b[0m\u001b[0;34m\u001b[0m\u001b[0m\n",
      "\u001b[0;31mUndefinedColumn\u001b[0m: column \"texto\" does not exist\nLINE 13: WHERE to_tsvector('portuguese', texto) @@ to_tsquery('portug...\n                                         ^\n"
     ]
    }
   ],
   "source": [
    "query_update_tem_elemento_empirico = \"\"\"\n",
    "update alacip.artigos_dados_xml\n",
    "set tem_tabela = '0',\n",
    "    tem_quadro = '0',\n",
    "    tem_grafico = '0',\n",
    "    tem_diagrama = '0',\n",
    "    tem_figura = '0',\n",
    "    empirico = '0'\n",
    ";\n",
    "\n",
    "update alacip.artigos_dados_xml\n",
    "set tem_tabela = '1'\n",
    "WHERE to_tsvector('portuguese', texto) @@ to_tsquery('portuguese', 'tabela')\n",
    ";\n",
    "\n",
    "update alacip.artigos_dados_xml\n",
    "set tem_tabela = '1'\n",
    "WHERE to_tsvector('english', texto) @@ to_tsquery('english', 'table')\n",
    ";\n",
    "\n",
    "update alacip.artigos_dados_xml\n",
    "set tem_grafico = '1'\n",
    "WHERE to_tsvector('portuguese', texto) @@ to_tsquery('portuguese', 'grafico' || 'grafo')\n",
    ";\n",
    "\n",
    "update alacip.artigos_dados_xml\n",
    "set tem_grafico = '1'\n",
    "WHERE to_tsvector('english', texto) @@ to_tsquery('english', 'graphic' || 'plot' || 'graph')\n",
    ";\n",
    "\n",
    "update alacip.artigos_dados_xml\n",
    "set tem_quadro = '1'\n",
    "WHERE to_tsvector('portuguese', texto) @@ to_tsquery('portuguese', 'quadro')\n",
    ";\n",
    "\n",
    "update alacip.artigos_dados_xml\n",
    "set tem_diagrama = '1'\n",
    "WHERE to_tsvector('portuguese', texto) @@ to_tsquery('portuguese', 'diagrama')\n",
    ";\n",
    "\n",
    "update alacip.artigos_dados_xml\n",
    "set tem_diagrama = '1'\n",
    "WHERE to_tsvector('english', texto) @@ to_tsquery('english', 'diagram' || 'chart' )\n",
    ";\n",
    "\n",
    "update alacip.artigos_dados_xml\n",
    "set tem_figura = '1'\n",
    "WHERE to_tsvector('portuguese', texto) @@ to_tsquery('portuguese', 'figura')\n",
    ";\n",
    "\n",
    "update alacip.artigos_dados_xml\n",
    "set empirico = '1' \n",
    "where tem_tabela = '1' or tem_quadro = '1' or tem_diagrama = '1' or tem_figura = '1'\n",
    ";\n",
    "\n",
    "\"\"\"\n",
    "\n",
    "smod.execute_query(query_update_tem_elemento_empirico)\n",
    "\n",
    "print(\"OK\")\n"
   ]
  },
  {
   "cell_type": "markdown",
   "metadata": {},
   "source": [
    "## Atualiza a tabela artigos selecionados com os dados XML"
   ]
  },
  {
   "cell_type": "code",
   "execution_count": null,
   "metadata": {},
   "outputs": [],
   "source": [
    "query_update_artigos = \"\"\"\n",
    "with dados_xml as\n",
    "(select \n",
    "    scielo_id  ,\n",
    "    titulo,\n",
    "    resumo,\n",
    "    palavra_chave1  ,\n",
    "    palavra_chave2  ,\n",
    "    palavra_chave3  ,\n",
    "    palavra_chave4  ,\n",
    "    palavra_chave5  ,\n",
    "    empirico  ,\n",
    "    tem_tabela  ,\n",
    "    tem_quadro  ,\n",
    "    tem_grafico  ,\n",
    "    tem_diagrama  ,\n",
    "    tem_figura  ,\n",
    "    abstract,\n",
    "    key_word1  ,\n",
    "    key_word2  ,\n",
    "    key_word3  ,\n",
    "    key_word4  ,\n",
    "    key_word5  ,\n",
    "    texto_xml \n",
    " \n",
    "from\n",
    "    alacip.artigos_dados_xml\n",
    ")\n",
    "\n",
    "update alacip.artigos_selecionados as a\n",
    "set\n",
    "  resumo = x.resumo,\n",
    "  palavra_chave1 = x.palavra_chave1 ,\n",
    "  palavra_chave2 = x.palavra_chave2 ,\n",
    "  palavra_chave3 = x.palavra_chave3 ,\n",
    "  palavra_chave4 = x.palavra_chave4 ,\n",
    "  palavra_chave5 = x.palavra_chave5 ,\n",
    "  empirico = x.empirico ,\n",
    "  tem_tabela = x.tem_tabela ,\n",
    "  tem_quadro = x.tem_quadro ,\n",
    "  tem_grafico = x.tem_grafico ,\n",
    "  tem_diagrama = x.tem_diagrama ,\n",
    "  tem_figura = x.tem_figura ,\n",
    "  abstract = x.abstract ,\n",
    "  key_word1 = x.key_word1 ,\n",
    "  key_word2 = x.key_word2 ,\n",
    "  key_word3 = x.key_word3 ,\n",
    "  key_word4 = x.key_word4 ,\n",
    "  key_word5 = x.key_word5 ,\n",
    "  texto_xml = x.texto_xml\n",
    "from \n",
    "    dados_xml as x\n",
    "where \n",
    "    a.scielo_id like x.scielo_id\n",
    ";\n",
    "\"\"\"\n",
    "\n",
    "smod.execute_query(query_update_artigos)"
   ]
  },
  {
   "cell_type": "code",
   "execution_count": null,
   "metadata": {
    "collapsed": true
   },
   "outputs": [],
   "source": []
  }
 ],
 "metadata": {
  "kernelspec": {
   "display_name": "Python 3",
   "language": "python",
   "name": "python3"
  },
  "language_info": {
   "codemirror_mode": {
    "name": "ipython",
    "version": 3
   },
   "file_extension": ".py",
   "mimetype": "text/x-python",
   "name": "python",
   "nbconvert_exporter": "python",
   "pygments_lexer": "ipython3",
   "version": "3.7.3"
  }
 },
 "nbformat": 4,
 "nbformat_minor": 2
}
