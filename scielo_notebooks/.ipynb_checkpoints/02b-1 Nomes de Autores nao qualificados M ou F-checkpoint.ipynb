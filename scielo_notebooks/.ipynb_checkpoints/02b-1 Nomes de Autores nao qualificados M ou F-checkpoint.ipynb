{
 "cells": [
  {
   "cell_type": "code",
   "execution_count": 2,
   "metadata": {
    "collapsed": false
   },
   "outputs": [
    {
     "name": "stdout",
     "output_type": "stream",
     "text": [
      "The sql extension is already loaded. To reload it, use:\n",
      "  %reload_ext sql\n"
     ]
    }
   ],
   "source": [
    "local_dir = '/home/neilor/scielo_db/dados'\n",
    "connect_cmd = \"dbname='scielo_db' user='neilor' host='localhost' password='n1f2c3n1'\"\n",
    "%load_ext sql\n",
    "%sql postgresql://neilor:n1f2c3n1@/scielo_db\n",
    "import psycopg2 as pg"
   ]
  },
  {
   "cell_type": "code",
   "execution_count": 3,
   "metadata": {
    "collapsed": true
   },
   "outputs": [],
   "source": [
    "## create table com nomes de autores não qualificados como M ou F"
   ]
  },
  {
   "cell_type": "code",
   "execution_count": 6,
   "metadata": {
    "collapsed": false
   },
   "outputs": [
    {
     "name": "stdout",
     "output_type": "stream",
     "text": [
      "Done.\n",
      "Done.\n",
      "1958 rows affected.\n"
     ]
    },
    {
     "data": {
      "text/plain": [
       "[]"
      ]
     },
     "execution_count": 6,
     "metadata": {},
     "output_type": "execute_result"
    }
   ],
   "source": [
    "query_create_nomes_nao_MouF = \"\"\"\n",
    "drop table if exists alacip.autores_nomes_nao_M_ou_F;\n",
    "create table alacip.autores_nomes_nao_M_ou_F\n",
    "(\n",
    "    nome varchar,\n",
    "    masc varchar,\n",
    "    fem varchar\n",
    ");\n",
    "\n",
    "insert into alacip.autores_nomes_nao_M_ou_F\n",
    "SELECT autor_nome_normal as nome, '' as masc, '' as fem\n",
    "  FROM alacip.autores_selecionados\n",
    "where autor_sexo like '#NONE'\n",
    "and autor_nome not like ''\n",
    "and position('.' in autor_nome) = 0\n",
    "group by autor_nome_normal\n",
    "order by autor_nome_normal\n",
    ";\n",
    "\"\"\"\n",
    "    \n",
    "%sql { query_create_nomes_nao_MouF }"
   ]
  },
  {
   "cell_type": "code",
   "execution_count": 7,
   "metadata": {
    "collapsed": false
   },
   "outputs": [
    {
     "name": "stdout",
     "output_type": "stream",
     "text": [
      "OK\n"
     ]
    }
   ],
   "source": [
    "import pandas as pd\n",
    "import numpy as np\n",
    "\n",
    "conn = pg.connect(connect_cmd)\n",
    "df_doacoes = pd.read_sql('select * from alacip.autores_nomes_nao_M_ou_F', conn)\n",
    "df_doacoes.fillna('#NULO')\n",
    "planilha =  local_dir+'/autores_nomes_nao_M_ou_F_v2.xlsx'\n",
    "df_doacoes.to_excel(planilha,sheet_name='Sheet1',header=True, index=False)\n",
    "df_doacoes.head()\n",
    "conn.close()\n",
    "print(\"OK\")"
   ]
  },
  {
   "cell_type": "code",
   "execution_count": 13,
   "metadata": {
    "collapsed": false
   },
   "outputs": [
    {
     "data": {
      "text/html": [
       "<div>\n",
       "<table border=\"1\" class=\"dataframe\">\n",
       "  <thead>\n",
       "    <tr style=\"text-align: right;\">\n",
       "      <th></th>\n",
       "      <th>artigo_scielo_id</th>\n",
       "      <th>autor_nome_completo</th>\n",
       "      <th>autor_sobrenome</th>\n",
       "      <th>autor_nome</th>\n",
       "      <th>autor_nome_normal</th>\n",
       "      <th>autor_sexo</th>\n",
       "      <th>autor_instituicao</th>\n",
       "      <th>autor_cidade_instituicao</th>\n",
       "      <th>autor_pq</th>\n",
       "    </tr>\n",
       "  </thead>\n",
       "  <tbody>\n",
       "    <tr>\n",
       "      <th>0</th>\n",
       "      <td>S1415-47572007000600005</td>\n",
       "      <td>Flávio Vieira Meirelles</td>\n",
       "      <td>#NONE</td>\n",
       "      <td>Flávio</td>\n",
       "      <td>FLAVIO</td>\n",
       "      <td>M</td>\n",
       "      <td>Universidade de São Paulo</td>\n",
       "      <td>Pirassununga</td>\n",
       "      <td>#NONE</td>\n",
       "    </tr>\n",
       "    <tr>\n",
       "      <th>1</th>\n",
       "      <td>S0034-71402005000200006</td>\n",
       "      <td>Flávio Vilela Vieira</td>\n",
       "      <td>#NONE</td>\n",
       "      <td>Flávio</td>\n",
       "      <td>FLAVIO</td>\n",
       "      <td>M</td>\n",
       "      <td>Universidade Federal de Uberlândia</td>\n",
       "      <td></td>\n",
       "      <td>#NONE</td>\n",
       "    </tr>\n",
       "    <tr>\n",
       "      <th>2</th>\n",
       "      <td>S1415-47572008000400010</td>\n",
       "      <td>Flávio V. Meirelles</td>\n",
       "      <td>#NONE</td>\n",
       "      <td>Flávio</td>\n",
       "      <td>FLAVIO</td>\n",
       "      <td>M</td>\n",
       "      <td>Universidade de São Paulo</td>\n",
       "      <td>Pirassununga</td>\n",
       "      <td>#NONE</td>\n",
       "    </tr>\n",
       "    <tr>\n",
       "      <th>3</th>\n",
       "      <td>S1415-47571999000400013</td>\n",
       "      <td>Flávio V. Meirelles</td>\n",
       "      <td>#NONE</td>\n",
       "      <td>Flávio</td>\n",
       "      <td>FLAVIO</td>\n",
       "      <td>M</td>\n",
       "      <td>USP</td>\n",
       "      <td>Ribeirão Preto</td>\n",
       "      <td>#NONE</td>\n",
       "    </tr>\n",
       "    <tr>\n",
       "      <th>4</th>\n",
       "      <td>S0034-71402007000400005</td>\n",
       "      <td>Francisco A. Alcaraz Garcia</td>\n",
       "      <td>#NONE</td>\n",
       "      <td>Francisco</td>\n",
       "      <td>FRANCISCO</td>\n",
       "      <td>M</td>\n",
       "      <td>Pontifícia Universidade Católica do Rio de Jan...</td>\n",
       "      <td></td>\n",
       "      <td>#NONE</td>\n",
       "    </tr>\n",
       "  </tbody>\n",
       "</table>\n",
       "</div>"
      ],
      "text/plain": [
       "          artigo_scielo_id          autor_nome_completo autor_sobrenome  \\\n",
       "0  S1415-47572007000600005      Flávio Vieira Meirelles           #NONE   \n",
       "1  S0034-71402005000200006         Flávio Vilela Vieira           #NONE   \n",
       "2  S1415-47572008000400010          Flávio V. Meirelles           #NONE   \n",
       "3  S1415-47571999000400013          Flávio V. Meirelles           #NONE   \n",
       "4  S0034-71402007000400005  Francisco A. Alcaraz Garcia           #NONE   \n",
       "\n",
       "  autor_nome autor_nome_normal autor_sexo  \\\n",
       "0     Flávio            FLAVIO          M   \n",
       "1     Flávio            FLAVIO          M   \n",
       "2     Flávio            FLAVIO          M   \n",
       "3     Flávio            FLAVIO          M   \n",
       "4  Francisco         FRANCISCO          M   \n",
       "\n",
       "                                   autor_instituicao autor_cidade_instituicao  \\\n",
       "0                          Universidade de São Paulo             Pirassununga   \n",
       "1                 Universidade Federal de Uberlândia                            \n",
       "2                          Universidade de São Paulo             Pirassununga   \n",
       "3                                                USP           Ribeirão Preto   \n",
       "4  Pontifícia Universidade Católica do Rio de Jan...                            \n",
       "\n",
       "  autor_pq  \n",
       "0    #NONE  \n",
       "1    #NONE  \n",
       "2    #NONE  \n",
       "3    #NONE  \n",
       "4    #NONE  "
      ]
     },
     "execution_count": 13,
     "metadata": {},
     "output_type": "execute_result"
    }
   ],
   "source": [
    "conn = pg.connect(connect_cmd)\n",
    "autores_df = pd.read_sql('select * from alacip.autores_selecionados',conn)\n",
    "autores_df.head()\n",
    "#autores_cursor.execute('sel')\n",
    "\n",
    "#nome = 'alo neilor fermino camargo '.split()\n",
    "#print(nome[0],nome[-1])"
   ]
  },
  {
   "cell_type": "code",
   "execution_count": 58,
   "metadata": {
    "collapsed": false
   },
   "outputs": [
    {
     "data": {
      "text/plain": [
       "FAUSTO FORESTI            31\n",
       "LUIS F MIGUEL             31\n",
       "PAULO R ALMEIDA           30\n",
       "CLAUDIO OLIVEIRA          28\n",
       "IRACILDA SAMPAIO          20\n",
       "PEDRO M GALETTI-JUNIOR    20\n",
       "HORACIO SCHNEIDER         19\n",
       "JOSÉ F S SARAIVA          18\n",
       "MARCOS A MACHADO          18\n",
       "COSME D CRUZ              18\n",
       "LUIZ L COUTINHO           17\n",
       "ROBERTO GIUGLIANI         17\n",
       "FLÁVIA BIROLI             16\n",
       "CESAR K GRISOLIA          16\n",
       "PAULO S LOPES             16\n",
       "ANTÔNIO C LESSA           15\n",
       "ROBERTO GRÜN              15\n",
       "MARCELO A MEDEIROS        15\n",
       "JOSÉ M DOMINGUES          15\n",
       "JOSÉ A F DINIZ-FILHO      14\n",
       "TULLO VIGEVANI            14\n",
       "MÁRIO S MANTOVANI         14\n",
       "RAYSILDO B LÔBO           14\n",
       "SIMONE E F GUIMARÃES      13\n",
       "FRANCISCO M SALZANO       13\n",
       "PAULO S GONÇALVES         13\n",
       "MARA G TAVARES            12\n",
       "MAGNO A P RAMALHO         12\n",
       "ORLANDO MOREIRA-FILHO     12\n",
       "JOSÉ M S VIANA            12\n",
       "                          ..\n",
       "LAVÍNIA A CRUZ             1\n",
       "CLÁUDIA R F LEMOS          1\n",
       "ANDRÉ DUARTE               1\n",
       "ALEJANDRO CABRERA          1\n",
       "ELAINE FRANÇOSO            1\n",
       "ANA B C GALVÃO             1\n",
       "LINGLI SUN                 1\n",
       "JOANNA KLOS                1\n",
       "DIEGO D A PASKULIN         1\n",
       "JORGE DURÁN-GONZÁLEZ       1\n",
       "DANTE P D LANNA            1\n",
       "MARIA A M MORALES          1\n",
       "GUILLERMO ORTÍ             1\n",
       "MARCELA C GUIDUGLI         1\n",
       "BAOQING LI                 1\n",
       "ANTONIO R BARBOSA          1\n",
       "KARIN KLEINSTEUBER         1\n",
       "RÜDIGER VOIGT              1\n",
       "JEAN P H J DUCROQUET       1\n",
       "ARTHUR G FETT-NETO         1\n",
       "JOSÉ G DÓREA               1\n",
       "FERNANDA A F SOARES        1\n",
       "RAFAEL M S LIMA            1\n",
       "BRIAN B OGUNDAIRO          1\n",
       "JOSÉ M N OLIVAR            1\n",
       "A J M ROSA                 1\n",
       "ORI PREUSS                 1\n",
       "LEILA C A CARDOSO          1\n",
       "RENATA SCHAMA              1\n",
       "LEONARDO M CRUZ            1\n",
       "Name: autor_nome_completo, dtype: int64"
      ]
     },
     "execution_count": 58,
     "metadata": {},
     "output_type": "execute_result"
    }
   ],
   "source": [
    "def get_nome_completo_normal(nome_completo):\n",
    "    if nome_completo != None:\n",
    "        n0=nome_completo.upper()\n",
    "        n1=n0.replace('.',' ')\n",
    "        n2=n1.replace(' DO ',' ')\n",
    "        n3=n2.replace(' DA ',' ')\n",
    "        n4=n3.replace(' DE ',' ')\n",
    "        n5=n4.replace(' NETO','-NETO')\n",
    "        n6=n5.replace(' FILHO','-FILHO')\n",
    "        n7=n6.replace(' JÚNIOR','-JUNIOR')\n",
    "        n8=n7.replace(' JUNIOR','-JUNIOR')\n",
    "        n9=n8.replace(' JR','-JUNIOR')\n",
    "        nomes = n9.split()\n",
    "        s=len(nomes)\n",
    "        nomes_meio=[]\n",
    "        for i in range(1,s-1):\n",
    "            nomes_meio.append(nomes[i][0])\n",
    "\n",
    "        nome_normal = nomes[0]\n",
    "        for x in nomes_meio:\n",
    "            nome_normal =nome_normal+' '+x\n",
    "        nome_normal = nome_normal+' '+nomes[s-1]\n",
    "        \n",
    "        return(nome_normal)\n",
    "df2=autores_df['autor_nome_completo'].map(get_nome_completo_normal)\n",
    "df2.value_counts()"
   ]
  },
  {
   "cell_type": "code",
   "execution_count": null,
   "metadata": {
    "collapsed": true
   },
   "outputs": [],
   "source": []
  }
 ],
 "metadata": {
  "kernelspec": {
   "display_name": "Python 3",
   "language": "python",
   "name": "python3"
  },
  "language_info": {
   "codemirror_mode": {
    "name": "ipython",
    "version": 3
   },
   "file_extension": ".py",
   "mimetype": "text/x-python",
   "name": "python",
   "nbconvert_exporter": "python",
   "pygments_lexer": "ipython3",
   "version": "3.6.0"
  }
 },
 "nbformat": 4,
 "nbformat_minor": 2
}
