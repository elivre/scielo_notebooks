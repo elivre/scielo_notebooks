{
 "cells": [
  {
   "cell_type": "code",
   "execution_count": 1,
   "metadata": {
    "collapsed": false
   },
   "outputs": [],
   "source": [
    "local_dir = '/home/neilor/scielo_db/dados'\n",
    "connect_cmd = \"dbname='scielo_db' user='neilor' host='localhost' password='n1f2c3n1'\"\n",
    "%load_ext sql\n",
    "%sql postgresql://neilor:n1f2c3n1@/scielo_db\n",
    "import psycopg2 as pg\n",
    "        "
   ]
  },
  {
   "cell_type": "code",
   "execution_count": 6,
   "metadata": {
    "collapsed": false
   },
   "outputs": [
    {
     "name": "stdout",
     "output_type": "stream",
     "text": [
      "Done.\n",
      "Done.\n"
     ]
    },
    {
     "data": {
      "text/plain": [
       "[]"
      ]
     },
     "execution_count": 6,
     "metadata": {},
     "output_type": "execute_result"
    }
   ],
   "source": [
    "query_create_table_periodicos_selecionados = \"\"\"\n",
    "drop table if exists alacip.periodicos_selecionados;\n",
    "create table alacip.periodicos_selecionados\n",
    "(\n",
    "    periodico_classe varchar,\n",
    "    periodico_issn_scielo varchar,\n",
    "    periodico_cod varchar,\n",
    "    periodico_sigla varchar,\n",
    "    periodico_nome varchar,\n",
    "    periodico_qualis_cp varchar,\n",
    "    periodico_area varchar,\n",
    "    periodico_instituicao varchar,\n",
    "    periodico_cod_instituicao varchar,\n",
    "    periodico_cidade_da_instituicao varchar,\n",
    "    periodico_cod_cidade varchar\n",
    ");\n",
    "\"\"\"\n",
    "\n",
    "%sql {query_create_table_periodicos_selecionados}\n",
    " \n",
    "\n"
   ]
  },
  {
   "cell_type": "code",
   "execution_count": 7,
   "metadata": {
    "collapsed": false
   },
   "outputs": [
    {
     "name": "stdout",
     "output_type": "stream",
     "text": [
      "14 rows affected.\n"
     ]
    },
    {
     "data": {
      "text/plain": [
       "[]"
      ]
     },
     "execution_count": 7,
     "metadata": {},
     "output_type": "execute_result"
    }
   ],
   "source": [
    "arq_csv = local_dir+'/periodicos_selecionados.csv'\n",
    "\n",
    "copy_csv = \"\"\"\n",
    "COPY alacip.periodicos_selecionados FROM '%s' WITH\n",
    "(\n",
    "    FORMAT CSV,\n",
    "    DELIMITER ';',\n",
    "    NULL '#NONE',\n",
    "    HEADER true,\n",
    "    QUOTE '\"',\n",
    "    ENCODING 'UTF-8'\n",
    ");\n",
    "\"\"\"\n",
    "%sql {copy_csv % arq_csv}\n"
   ]
  },
  {
   "cell_type": "code",
   "execution_count": 2,
   "metadata": {
    "collapsed": false
   },
   "outputs": [
    {
     "name": "stdout",
     "output_type": "stream",
     "text": [
      "Done.\n",
      "Done.\n"
     ]
    },
    {
     "data": {
      "text/plain": [
       "[]"
      ]
     },
     "execution_count": 2,
     "metadata": {},
     "output_type": "execute_result"
    }
   ],
   "source": [
    "query_create_table_artigos_selecionados = \"\"\"\n",
    "drop table if exists alacip.artigos_selecionados;\n",
    "create table alacip.artigos_selecionados\n",
    "(\n",
    "    scielo_id varchar, \n",
    "    periodico_classe varchar, \n",
    "    periodico_issn_scielo varchar, \n",
    "    periodico_ano varchar, \n",
    "    periodico_ano_capes varchar, \n",
    "    periodico_ano_capes_periodo varchar, \n",
    "    periodico_cod varchar, \n",
    "    periodico_sigla varchar, \n",
    "    periodico_qualis_na_cp varchar, \n",
    "    periodico_area varchar, \n",
    "\n",
    "    periodico_instituicao varchar, \n",
    "    periodico_cidade_da_instituicao varchar, \n",
    "    titulo varchar,     \n",
    "    n_autores varchar, \n",
    "    n_autores_descricao varchar,     \n",
    " \n",
    "    acessos_ao_html varchar, \n",
    "    acessos_ao_pdf varchar, \n",
    "    area_tematica varchar, \n",
    "\n",
    "    \n",
    "    palavra_chave1 varchar,\n",
    "    palavra_chave2 varchar,\n",
    "    palavra_chave3 varchar,\n",
    "    palavra_chave4 varchar,\n",
    "    palavra_chave5 varchar,   \n",
    "    \n",
    "    bolsistas_pq varchar, \n",
    "    \n",
    "    autor_1_nome varchar,\n",
    "    autor_1_pq  varchar,\n",
    "    autor_1_vinculo_institucional varchar,\n",
    "    autor_1_sexo varchar,\n",
    "    autor_1_docente varchar,\n",
    "\n",
    "    autor_2_nome varchar,\n",
    "    autor_2_pq  varchar,\n",
    "    autor_2_vinculo_institucional varchar,\n",
    "    autor_2_sexo varchar,\n",
    "    autor_2_docente varchar,\n",
    "\n",
    "    autor_3_nome varchar,\n",
    "    autor_3_pq  varchar,\n",
    "    autor_3_vinculo_institucional varchar,\n",
    "    autor_3_sexo varchar,\n",
    "    autor_3_docente varchar,\n",
    "\n",
    "    autor_4_nome varchar,\n",
    "    autor_4_pq  varchar,\n",
    "    autor_4_vinculo_institucional varchar,\n",
    "    autor_4_sexo varchar,\n",
    "    autor_4_docente varchar,\n",
    "\n",
    "    autor_5_nome varchar,\n",
    "    autor_5_pq  varchar,\n",
    "    autor_5_vinculo_institucional varchar,\n",
    "    autor_5_sexo varchar,\n",
    "    autor_5_docente varchar,\n",
    "\n",
    "    autor_6_nome varchar,\n",
    "    autor_6_pq  varchar,\n",
    "    autor_6_vinculo_institucional varchar,\n",
    "    autor_6_sexo varchar,\n",
    "    autor_6_docente varchar,\n",
    "\n",
    "    autor_7_nome varchar,\n",
    "    autor_7_pq  varchar,\n",
    "    autor_7_vinculo_institucional varchar,\n",
    "    autor_7_sexo varchar,\n",
    "    autor_7_docente varchar,\n",
    "\n",
    "    autor_8_nome varchar,\n",
    "    autor_8_pq  varchar,\n",
    "    autor_8_vinculo_institucional varchar,\n",
    "    autor_8_sexo varchar,\n",
    "    autor_8_docente varchar,\n",
    "\n",
    "    autor_9_nome varchar,\n",
    "    autor_9_pq  varchar,\n",
    "    autor_9_vinculo_institucional varchar,\n",
    "    autor_9_sexo varchar,\n",
    "    autor_9_docente varchar,\n",
    "\n",
    "    autor_10_nome varchar,\n",
    "    autor_10_pq  varchar,\n",
    "    autor_10_vinculo_institucional varchar,\n",
    "    autor_10_sexo varchar,\n",
    "    \n",
    "    resumo varchar\n",
    "\n",
    "\n",
    ");\n",
    "\"\"\"\n",
    "    \n",
    "%sql {query_create_table_artigos_selecionados}\n",
    "\n"
   ]
  },
  {
   "cell_type": "code",
   "execution_count": 3,
   "metadata": {
    "collapsed": false
   },
   "outputs": [
    {
     "name": "stdout",
     "output_type": "stream",
     "text": [
      "7200 rows affected.\n",
      "Done.\n"
     ]
    },
    {
     "data": {
      "text/plain": [
       "[]"
      ]
     },
     "execution_count": 3,
     "metadata": {},
     "output_type": "execute_result"
    }
   ],
   "source": [
    "query_populate_alacip_artigos_selecionados= \"\"\"\n",
    "insert into alacip.artigos_selecionados  \n",
    "select \n",
    "d.document_publishing_id_scielo\tas\tscielo_id,\n",
    "p.periodico_classe\tas\tperiodico_classe,\n",
    "d.document_issn_scielo\tas\tperiodico_issn_scielo,\n",
    "d.document_publishing_year\tas\tperiodico_ano,\n",
    "null \tas\tperiodico_ano_capes,\n",
    "null\tas\tperiodico_ano_capes_periodo,\n",
    "p.periodico_cod\tas\tperiodico_cod,\n",
    "p.periodico_sigla\tas\tperiodico_sigla,\n",
    "p.periodico_qualis_cp\tas\tperiodico_qualis_na_cp,\n",
    "p.periodico_area\tas\tperiodico_area,\n",
    "p.periodico_instituicao\tas\tperiodico_instituicao,\n",
    "p.periodico_cidade_da_instituicao\tas\tperiodico_cidade_da_instituicao,\n",
    "null\tas\ttitulo,\n",
    "d.document_authors\tas\tn_autores,\n",
    "null\tas\tn_autores_descricao,\n",
    "null\tas\tacessos_ao_html,\n",
    "null\tas\tacessos_ao_pdf,\n",
    "null\tas\tarea_tematica,\n",
    "\n",
    "null\tas\tpalavra_chave1,\n",
    "null\tas\tpalavra_chave2,\n",
    "null\tas\tpalavra_chave3,\n",
    "null\tas\tpalavra_chave4,\n",
    "null\tas\tpalavra_chave5,\n",
    "null\tas\tbolsistas_pq,\n",
    "null\tas\tautor_1_nome,\n",
    "null\tas\tautor_1_pq,\n",
    "null\tas\tautor_1_vinculo_institucional,\n",
    "null\tas\tautor_1_sexo,\n",
    "null\tas\tautor_1_docente,\n",
    "null\tas\tautor_2_nome,\n",
    "null\tas\tautor_2_pq,\n",
    "null\tas\tautor_2_vinculo_institucional,\n",
    "null\tas\tautor_2_sexo,\n",
    "null\tas\tautor_2_docente,\n",
    "null\tas\tautor_3_nome,\n",
    "null\tas\tautor_3_pq,\n",
    "null\tas\tautor_3_vinculo_institucional,\n",
    "null\tas\tautor_3_sexo,\n",
    "null\tas\tautor_3_docente,\n",
    "null\tas\tautor_4_nome,\n",
    "null\tas\tautor_4_pq,\n",
    "null\tas\tautor_4_vinculo_institucional,\n",
    "null\tas\tautor_4_sexo,\n",
    "null\tas\tautor_4_docente,\n",
    "null\tas\tautor_5_nome,\n",
    "null\tas\tautor_5_pq,\n",
    "null    as\tautor_5_vinculo_institucional,\n",
    "null\tas\tautor_5_sexo,\n",
    "null\tas\tautor_5_docente,\n",
    "null\tas\tautor_6_nome,\n",
    "null\tas\tautor_6_pq,\n",
    "null\tas\tautor_6_vinculo_institucional,\n",
    "null\tas\tautor_6_sexo,\n",
    "null\tas\tautor_6_docente,\n",
    "null\tas\tautor_7_nome,\n",
    "null\tas\tautor_7_pq,\n",
    "null\tas\tautor_7_vinculo_institucional,\n",
    "null\tas\tautor_7_sexo,\n",
    "null\tas\tautor_7_docente,\n",
    "null\tas\tautor_8_nome,\n",
    "null\tas\tautor_8_pq,\n",
    "null\tas\tautor_8_vinculo_institucional,\n",
    "null\tas\tautor_8_sexo,\n",
    "null\tas\tautor_8_docente,\n",
    "null\tas\tautor_9_nome,\n",
    "null\tas\tautor_9_pq,\n",
    "null\tas\tautor_9_vinculo_institucional,\n",
    "null\tas\tautor_9_sexo,\n",
    "null\tas\tautor_9_docente,\n",
    "null\tas\tautor_10_nome,\n",
    "null\tas\tautor_10_pq,\n",
    "null\tas\tautor_10_vinculo_institucional,\n",
    "null\tas\tautor_10_sexo,\n",
    "null\tas\tresumo\n",
    "\n",
    "FROM \n",
    "  alacip.periodicos_selecionados as p\n",
    "left join\n",
    "  public.documents_counts as d\n",
    "on\n",
    "  d.document_publishing_year in \n",
    "    (\n",
    "    '2013','2014','2015','2016'\n",
    "    ,'2010','2011','2012'\n",
    "    ,'2007','2008','2009'\n",
    "    ,'2004','2005','2006'\n",
    "    ,'2001','2002','2003'\n",
    "    ,'1998','1999','2000'\n",
    "    ,'1995','1996','1997'\n",
    "    ) \n",
    "AND \n",
    "  d.document_issn_scielo = p.periodico_issn_scielo\n",
    "AND\n",
    "  d.document_type like 'research-article'\n",
    ";\n",
    "\n",
    "create index scielo_idx on alacip.artigos_selecionados(scielo_id);\n",
    "\"\"\"\n",
    "\n",
    "%sql {query_populate_alacip_artigos_selecionados}\n"
   ]
  },
  {
   "cell_type": "code",
   "execution_count": 4,
   "metadata": {
    "collapsed": false
   },
   "outputs": [
    {
     "name": "stdout",
     "output_type": "stream",
     "text": [
      "7200 rows affected.\n",
      "7200 rows affected.\n"
     ]
    },
    {
     "data": {
      "text/plain": [
       "[]"
      ]
     },
     "execution_count": 4,
     "metadata": {},
     "output_type": "execute_result"
    }
   ],
   "source": [
    "query_update_ano_capes = \"\"\"\n",
    "update alacip.artigos_selecionados\n",
    "set periodico_ano_capes =\n",
    "  CASE WHEN periodico_ano in ('2013','2014','2015','2016') THEN '1'\n",
    "       WHEN periodico_ano in ('2010','2011','2012') THEN '2'\n",
    "       WHEN periodico_ano in ('2007','2008','2009') THEN '3' \n",
    "       WHEN periodico_ano in ('2004','2005','2006') THEN '4'\n",
    "       WHEN periodico_ano in ('2001','2002','2003') THEN '5'\n",
    "       WHEN periodico_ano in ('1998','1999','2000') THEN '6'  \n",
    "       WHEN periodico_ano in ('1995','1996','1997') THEN '7'  \n",
    "  END\n",
    ";\n",
    "\"\"\"\n",
    "\n",
    "%sql {query_update_ano_capes}\n",
    "\n",
    "query_update_ano_capes_periodo = \"\"\"\n",
    "update alacip.artigos_selecionados\n",
    "set periodico_ano_capes_periodo =\n",
    "  CASE WHEN periodico_ano in ('2013','2014','2015','2016') THEN '2013,2014,2015,2016'\n",
    "       WHEN periodico_ano in ('2010','2011','2012') THEN '2010,2011,2012'\n",
    "       WHEN periodico_ano in ('2007','2008','2009') THEN '2007,2008,2009' \n",
    "       WHEN periodico_ano in ('2004','2005','2006') THEN '2004,2005,2006'\n",
    "       WHEN periodico_ano in ('2001','2002','2003') THEN '2001,2002,2003'\n",
    "       WHEN periodico_ano in ('1998','1999','2000') THEN '1998,1999,2000'  \n",
    "       WHEN periodico_ano in ('1995','1996','1997') THEN '1995,1996,1997'  \n",
    "  END\n",
    ";\n",
    "\"\"\"\n",
    "\n",
    "%sql {query_update_ano_capes_periodo}"
   ]
  },
  {
   "cell_type": "code",
   "execution_count": 5,
   "metadata": {
    "collapsed": false
   },
   "outputs": [
    {
     "name": "stdout",
     "output_type": "stream",
     "text": [
      "7200 rows affected.\n",
      "OK\n"
     ]
    }
   ],
   "source": [
    "query_update_n_autores_descricao = \"\"\"\n",
    "update alacip.artigos_selecionados\n",
    "set n_autores_descricao =\n",
    "  CASE WHEN n_autores like '1' THEN 'um autor'\n",
    "       WHEN n_autores like '2' THEN 'dois autores' \n",
    "       WHEN n_autores like '3' THEN 'três autores'\n",
    "       WHEN n_autores like '4' THEN 'quatro autores'\n",
    "       WHEN n_autores like '5' THEN 'cinco autores'\n",
    "       WHEN n_autores like '6' THEN 'seis autores'\n",
    "       WHEN n_autores like '7' THEN 'sete autores'\n",
    "       WHEN n_autores like '8' THEN 'oito autores'\n",
    "       WHEN n_autores like '9' THEN 'nove autores'\n",
    "       WHEN n_autores like '10' THEN 'dez autores'\n",
    "       WHEN n_autores like null  THEN 'não definido'\n",
    "       WHEN n_autores like ' '  THEN 'não definido'\n",
    "       WHEN n_autores like '0'  THEN 'não definido'\n",
    "       ELSE 'mais de dez autores'\n",
    "  END\n",
    ";\n",
    "\"\"\"\n",
    "\n",
    "%sql{query_update_n_autores_descricao}\n",
    "\n",
    "print(\"OK\")"
   ]
  },
  {
   "cell_type": "code",
   "execution_count": 5,
   "metadata": {
    "collapsed": false
   },
   "outputs": [
    {
     "name": "stdout",
     "output_type": "stream",
     "text": [
      "Done.\n",
      "Done.\n",
      "7200 rows affected.\n"
     ]
    },
    {
     "data": {
      "text/plain": [
       "[]"
      ]
     },
     "execution_count": 5,
     "metadata": {},
     "output_type": "execute_result"
    }
   ],
   "source": [
    "query_create_coluna_link_html = \"\"\"\n",
    "alter table alacip.artigos_selecionados drop column if exists link_html;\n",
    "alter table alacip.artigos_selecionados add column link_html varchar;\n",
    "update alacip.artigos_selecionados\n",
    "set link_html = 'http://www.scielo.br/scielo.php?script=sci_arttext&pid='||scielo_id||'&lng=pt'\n",
    ";\n",
    "\"\"\"\n",
    "\n",
    "%sql {query_create_coluna_link_html}"
   ]
  },
  {
   "cell_type": "code",
   "execution_count": null,
   "metadata": {
    "collapsed": true
   },
   "outputs": [],
   "source": []
  }
 ],
 "metadata": {
  "kernelspec": {
   "display_name": "Python 3",
   "language": "python",
   "name": "python3"
  },
  "language_info": {
   "codemirror_mode": {
    "name": "ipython",
    "version": 3
   },
   "file_extension": ".py",
   "mimetype": "text/x-python",
   "name": "python",
   "nbconvert_exporter": "python",
   "pygments_lexer": "ipython3",
   "version": "3.6.0"
  }
 },
 "nbformat": 4,
 "nbformat_minor": 2
}
