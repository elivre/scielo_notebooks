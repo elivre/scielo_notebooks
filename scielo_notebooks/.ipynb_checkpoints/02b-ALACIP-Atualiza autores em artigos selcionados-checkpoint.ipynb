{
 "cells": [
  {
   "cell_type": "code",
   "execution_count": 1,
   "metadata": {
    "collapsed": false
   },
   "outputs": [],
   "source": [
    "local_dir = '/home/neilor/scielo_db/dados'\n",
    "connect_cmd = \"dbname='scielo_db' user='neilor' host='localhost' password='n1f2c3n1'\"\n",
    "%load_ext sql\n",
    "%sql postgresql://neilor:n1f2c3n1@/scielo_db\n",
    "import psycopg2 as pg\n",
    "        "
   ]
  },
  {
   "cell_type": "code",
   "execution_count": 8,
   "metadata": {
    "collapsed": true
   },
   "outputs": [],
   "source": [
    "import re\n",
    "def normalizar_nome(nome):\n",
    "    if nome != None:\n",
    "        nome1 = nome.upper()\n",
    "        nome2 = nome1.replace('Y','I')\n",
    "        nome3 = nome2.replace('LL','L')\n",
    "        n0 = nome3\n",
    "        n1=re.sub('[Á|á|À|à|Â|â|Ã|ã|Ä|ä]','A',n0)\n",
    "        n2=re.sub('[É|é|È|è|Ê|ê|Ẽ|ẽ|Ë|ë]','E',n1)\n",
    "        n3=re.sub('[Í|í|Ì|ì|Î|î|Ĩ|ĩ|Ï|ï]','I',n2)\n",
    "        n4=re.sub('[Ó|ó|Ò|ò|Ô|ô|Õ|õ|Ö|ö]','O',n3)\n",
    "        n5=re.sub('[Ú|ú|Ù|ù|Û|û|Ũ|ũ|Ü|ü]','U',n4)\n",
    "        n6=re.sub('[Ý|ý|Ỳ|ỳ|Ŷ|ŷ|Ỹ|ỹ|Ÿ|ÿ]','I',n5)\n",
    "        n7=re.sub('[Ç|ç]','C',n6)\n",
    "        n8=n7.upper()\n",
    "        n9=n8.replace('LL','L')\n",
    "        n10=n9.replace('TT','T')\n",
    "        n11=n10.replace('AA','A')\n",
    "        n12=n11.replace('MM','M')\n",
    "        n13=n12.replace('NN','N')\n",
    "        n14=n13.replace('RR','R')\n",
    "        n15=n14.replace('SS','S')\n",
    "        n16=n15.replace('BB','B')\n",
    "        n17=n16.replace('EE','E')\n",
    "        n18=n17.replace('DD','D')\n",
    "        n19=n18.replace('HH','H')\n",
    "        return re.sub('[\\s+]', '', n19)\n",
    "    else:\n",
    "        return nome\n"
   ]
  },
  {
   "cell_type": "code",
   "execution_count": 24,
   "metadata": {
    "collapsed": false
   },
   "outputs": [
    {
     "name": "stdout",
     "output_type": "stream",
     "text": [
      "Done.\n",
      "Done.\n",
      "15830 rows affected.\n"
     ]
    },
    {
     "data": {
      "text/plain": [
       "[]"
      ]
     },
     "execution_count": 24,
     "metadata": {},
     "output_type": "execute_result"
    }
   ],
   "source": [
    "query_create_table_autores_selecionados = \"\"\"\n",
    "drop table if exists alacip.autores_selecionados;\n",
    "create table alacip.autores_selecionados\n",
    "(\n",
    "    artigo_scielo_id       varchar,\n",
    "    autor_nome_completo    varchar,\n",
    "    autor_sobrenome        varchar,\n",
    "    autor_nome             varchar,\n",
    "    autor_nome_normal      varchar,\n",
    "    autor_sexo             varchar,\n",
    "    autor_instituicao      varchar,\n",
    "    autor_cidade_instituicao    varchar,\n",
    "    autor_pq varchar\n",
    ");\n",
    "\"\"\"\n",
    "    \n",
    "%sql {query_create_table_autores_selecionados}\n",
    "\n",
    "\n",
    "query_populate_autores_selecionados = \"\"\"\n",
    "insert into alacip.autores_selecionados \n",
    "(\n",
    "artigo_scielo_id,\n",
    "autor_nome_completo,\n",
    "autor_sobrenome,\n",
    "autor_nome,\n",
    "autor_nome_normal,\n",
    "autor_sexo,\n",
    "autor_instituicao,\n",
    "autor_cidade_instituicao,\n",
    "autor_pq\n",
    ")\n",
    "select\n",
    "    document_publishing_id_scielo     as    artigo_scielo_id,\n",
    "    document_author                   as    autor_nome_completo,\n",
    "    '#NONE'                              as    autor_sobrenome,\n",
    "    trim(split_part(document_author, ' ', 1))  as    autor_nome,\n",
    "    '#NONE'  as    autor_nome_normal,\n",
    "    '#NONE'                              as    autor_sexo,\n",
    "    max(document_author_institution)  as    autor_instituicao,\n",
    "    max(document_author_affiliation_city)    as    autor_cidade_instituicao,\n",
    "    '#NONE' as autor_pq\n",
    "from\n",
    "    documents_authors\n",
    "where\n",
    "    document_publishing_id_scielo \n",
    "    in (select scielo_id from alacip.artigos_selecionados)\n",
    "group by\n",
    "    artigo_scielo_id,\n",
    "    autor_nome_completo\n",
    "    --autor_instituicao,\n",
    "    --autor_cidade_instituicao\n",
    "order by\n",
    "    autor_nome_completo,\n",
    "    autor_instituicao,\n",
    "    autor_cidade_instituicao\n",
    ";\n",
    "\"\"\"\n",
    "    \n",
    "%sql {query_populate_autores_selecionados }\n",
    "    \n",
    "   "
   ]
  },
  {
   "cell_type": "markdown",
   "metadata": {},
   "source": [
    "### atualiza sexo em autores_selecionados"
   ]
  },
  {
   "cell_type": "code",
   "execution_count": 25,
   "metadata": {
    "collapsed": false
   },
   "outputs": [
    {
     "name": "stdout",
     "output_type": "stream",
     "text": [
      "OK\n"
     ]
    }
   ],
   "source": [
    "def get_sql_update_autor_nome_normal(autor_nome_completo,autor_nome_normal,scielo_id):\n",
    "    sql = \"update alacip.autores_selecionados as a set autor_nome_normal = \" \\\n",
    "    +\"'\"+autor_nome_normal+\"'\" \\\n",
    "    +\" WHERE artigo_scielo_id like \" \\\n",
    "    +\"'\"+scielo_id+\"'\" \\\n",
    "    +\" AND autor_nome_completo = \" \\\n",
    "    +\"'\"+autor_nome_completo+\"'\" \\\n",
    "    +\";\"\n",
    "    return sql\n",
    "\n",
    "#sql = \"update alacip.autores_selecionados as a set autor_nome_normal = '\"+autor_nome_normal+\"' WHERE CURRENT OF cursor;\"\n",
    "   \n",
    "\n",
    "conn=pg.connect(connect_cmd)\n",
    "cursor = conn.cursor()\n",
    "cursor.execute('select artigo_scielo_id, autor_nome_completo, autor_nome from alacip.autores_selecionados;')\n",
    "rows=cursor.fetchall()\n",
    "for row in rows:\n",
    "    scielo_id = row[0]\n",
    "    autor_nome_completo = row[1]\n",
    "    autor_nome = row[2]\n",
    "    autor_nome_normal = normalizar_nome(autor_nome)\n",
    "    if autor_nome != None:\n",
    "        #print(get_sql_update_autor_nome_normal(autor_nome_completo,autor_nome_normal, scielo_id))\n",
    "        #cursor.execute(sql)\n",
    "        cursor.execute(get_sql_update_autor_nome_normal(autor_nome_completo,autor_nome_normal, scielo_id))\n",
    "        conn.commit()\n",
    "print(\"OK\")"
   ]
  },
  {
   "cell_type": "code",
   "execution_count": 26,
   "metadata": {
    "collapsed": false
   },
   "outputs": [
    {
     "name": "stdout",
     "output_type": "stream",
     "text": [
      "15830 rows affected.\n",
      "7679 rows affected.\n",
      "4831 rows affected.\n",
      "60 rows affected.\n",
      "0 rows affected.\n"
     ]
    },
    {
     "data": {
      "text/plain": [
       "[]"
      ]
     },
     "execution_count": 26,
     "metadata": {},
     "output_type": "execute_result"
    }
   ],
   "source": [
    "query_update_sexo_M_em_todos_autores_selecionados = \"\"\"\n",
    "update alacip.autores_selecionados as a\n",
    "    set autor_sexo = '#NONE';\n",
    "    \n",
    "update alacip.autores_selecionados as a\n",
    "    set autor_sexo = 'M'\n",
    "from alacip.nomes as n\n",
    "    where upper(trim(n.nome_normal)) like upper(trim(split_part(a.autor_nome_normal, ' ', 1)))\n",
    "    and n.sexo like 'M';\n",
    "\"\"\"\n",
    "\n",
    "query_update_sexo_F_em_autores_selecionados = \"\"\"\n",
    "update alacip.autores_selecionados as a\n",
    "    set autor_sexo = 'F'\n",
    "from alacip.nomes as n\n",
    "    where upper(trim(n.nome_normal)) like upper(trim(split_part(a.autor_nome_normal, ' ', 1)))\n",
    "    and n.sexo like 'F'\n",
    "\"\"\"\n",
    "\n",
    "query_update_sexo_X_em_autores_F_selecionados = \"\"\"\n",
    "update alacip.autores_selecionados as a\n",
    "    set autor_sexo = 'X'\n",
    "from alacip.nomes as n\n",
    "    where upper(trim(n.nome_normal)) like upper(trim(split_part(a.autor_nome_normal, ' ', 1)))\n",
    "    and n.sexo like 'M'\n",
    "    and a.autor_sexo like 'F'\n",
    "\"\"\"\n",
    "\n",
    "query_update_sexo_X_em_autores_M_selecionados = \"\"\"\n",
    "update alacip.autores_selecionados as a\n",
    "    set autor_sexo = 'X'\n",
    "from alacip.nomes as n\n",
    "    where upper(trim(n.nome_normal)) like upper(trim(split_part(a.autor_nome_normal, ' ', 1)))\n",
    "    and n.sexo like 'F'\n",
    "    and a.autor_sexo like 'M'\n",
    "\"\"\"\n",
    "%sql {query_update_sexo_M_em_todos_autores_selecionados}\n",
    "\n",
    "%sql {query_update_sexo_F_em_autores_selecionados}\n",
    "\n",
    "%sql {query_update_sexo_X_em_autores_F_selecionados}\n",
    "\n",
    "%sql {query_update_sexo_X_em_autores_M_selecionados}\n",
    "\n"
   ]
  },
  {
   "cell_type": "code",
   "execution_count": null,
   "metadata": {
    "collapsed": true
   },
   "outputs": [],
   "source": []
  },
  {
   "cell_type": "markdown",
   "metadata": {},
   "source": [
    "### Atualiza Autores (nome, instituicao, sexo) em artigos_selecionados"
   ]
  },
  {
   "cell_type": "code",
   "execution_count": 8,
   "metadata": {
    "collapsed": false
   },
   "outputs": [
    {
     "name": "stdout",
     "output_type": "stream",
     "text": [
      " ATUALIZADOS AUTOR INSTITUICAO\n"
     ]
    }
   ],
   "source": [
    "def get_sql_update_autor_nome(num, nome, scielo_id):\n",
    "    sql = \"update alacip.artigos_selecionados \" \\\n",
    "    +\"set autor_\"+num+\"_nome = '\"+nome+\"'\" \\\n",
    "    +\" where scielo_id like '\"+scielo_id+\"';\"\n",
    "    return sql\n",
    "\n",
    "def get_sql_update_autor_instituicao(num, instituicao, scielo_id):\n",
    "    sql = \"update alacip.artigos_selecionados \" \\\n",
    "    +\" set autor_\"+num+\"_vinculo_institucional = '\"+instituicao+\"'\"  \\\n",
    "    +\" where scielo_id like '\"+scielo_id+\"';\"\n",
    "    return sql\n",
    "\n",
    "def get_sql_update_autor_sexo(num, sexo, scielo_id):\n",
    "    sql = \"update alacip.artigos_selecionados \" \\\n",
    "    +\" set autor_\"+num+\"_sexo = '\"+sexo+\"'\"  \\\n",
    "    +\" where scielo_id like '\"+scielo_id+\"';\"\n",
    "    return sql\n",
    "\n",
    "def update_autores(id,conn):\n",
    "    sql = \"SELECT autor_nome_completo,autor_instituicao, autor_sexo \\\n",
    "    FROM alacip.autores_selecionados     \\\n",
    "    where artigo_scielo_id like '\"+id+\"';\"\n",
    "\n",
    "    autores = conn.cursor()\n",
    "    autores.execute(sql)\n",
    "\n",
    "    i=1\n",
    "    for autor in autores:\n",
    "        if i<11:\n",
    "            nome = autor[0]\n",
    "            instituicao = autor[1]\n",
    "            sexo = autor[2]\n",
    "\n",
    "            if nome != None:\n",
    "                nome = nome.replace(\"'\", \"''\")\n",
    "                atu_nome = get_sql_update_autor_nome(str(i),nome, id)\n",
    "                with conn:\n",
    "                    with conn.cursor() as curs:\n",
    "                        curs.execute(atu_nome)\n",
    "            if instituicao != None:\n",
    "                instituicao = instituicao.replace(\"'\", \"''\")\n",
    "                atu_instituicao = get_sql_update_autor_instituicao(str(i),instituicao, id)\n",
    "                with conn:\n",
    "                    with conn.cursor() as curs:\n",
    "                        curs.execute(atu_instituicao)\n",
    "            if sexo != None:\n",
    "                atu_sexo = get_sql_update_autor_sexo(str(i),sexo, id)\n",
    "                with conn:\n",
    "                    with conn.cursor() as curs:\n",
    "                        curs.execute(atu_sexo)  \n",
    "                        \n",
    "            i=i+1\n",
    "        \n",
    "    autores.close()\n",
    "\n",
    "    \n",
    "conn = pg.connect(\"dbname='scielo_db' user='neilor' host='localhost' password='n1f2c3n1'\")\n",
    "cursor = conn.cursor()\n",
    "cursor.execute(\"select scielo_id from alacip.artigos_selecionados;\")\n",
    "\n",
    "for scielo_id in cursor:\n",
    "    update_autores(scielo_id[0],conn)\n",
    "\n",
    "cursor.close()\n",
    "conn.close()   \n",
    "\n",
    "print( \" ATUALIZADOS AUTOR INSTITUICAO E SEXO\")    \n",
    "\n",
    "\n",
    "#print(get_lista_autores('S1415-47571998000100002'))"
   ]
  },
  {
   "cell_type": "markdown",
   "metadata": {},
   "source": [
    "### ATUALIZA AUTORES BOLSISTAS EM artigos_selecionados"
   ]
  },
  {
   "cell_type": "code",
   "execution_count": null,
   "metadata": {
    "collapsed": true
   },
   "outputs": [],
   "source": [
    "def get_sql_clear_bolsista(num):\n",
    "    sql = \"update alacip.artigos_selecionados  as a\" \\\n",
    "    +\" set autor_\"+str(num)+\"_pq = '0'\" \\\n",
    "    +\"     , bolsistas_pq = '0' \" \\\n",
    "    +\" ;\"  \n",
    "    return sql\n",
    "\n",
    "def get_sql_update_bolsista(num):\n",
    "    sql = \"update alacip.artigos_selecionados  as a\" \\\n",
    "    +\" set autor_\"+str(num)+\"_pq = '1' \" \\\n",
    "    +\"     , bolsistas_pq = cast((cast(bolsistas_pq as int)+1) as varchar) \" \\\n",
    "    +\" from alacip.bolsistas as b\" \\\n",
    "    +\" where upper(a.autor_\"+str(num)+\"_nome) in (select upper(nome) from alacip.bolsistas)\" \\\n",
    "    +\" and  a.artigo_ano >= cast(extract('year' from b.inicio) as varchar)\" \\\n",
    "    +\" and  a.artigo_ano <= cast(extract('year' from b.termino) as varchar)\" \\\n",
    "    +\";\"  \n",
    "    return sql\n",
    "\n",
    "for n in range(1,11):\n",
    "    %sql {get_sql_clear_bolsista(n)}\n",
    "\n",
    "for n in range(1,11):\n",
    "    %sql {get_sql_update_bolsista(n)}"
   ]
  }
 ],
 "metadata": {
  "kernelspec": {
   "display_name": "Python 3",
   "language": "python",
   "name": "python3"
  },
  "language_info": {
   "codemirror_mode": {
    "name": "ipython",
    "version": 3
   },
   "file_extension": ".py",
   "mimetype": "text/x-python",
   "name": "python",
   "nbconvert_exporter": "python",
   "pygments_lexer": "ipython3",
   "version": "3.6.0"
  }
 },
 "nbformat": 4,
 "nbformat_minor": 2
}
