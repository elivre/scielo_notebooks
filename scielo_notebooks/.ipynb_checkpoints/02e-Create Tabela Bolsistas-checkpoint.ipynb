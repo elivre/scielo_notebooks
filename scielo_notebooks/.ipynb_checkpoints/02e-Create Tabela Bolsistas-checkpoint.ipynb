{
 "cells": [
  {
   "cell_type": "code",
   "execution_count": 1,
   "metadata": {},
   "outputs": [
    {
     "name": "stderr",
     "output_type": "stream",
     "text": [
      "/home/neilor/anaconda3/lib/python3.6/site-packages/IPython/config.py:13: ShimWarning: The `IPython.config` package has been deprecated since IPython 4.0. You should import from traitlets.config instead.\n",
      "  \"You should import from traitlets.config instead.\", ShimWarning)\n",
      "/home/neilor/anaconda3/lib/python3.6/site-packages/sql/magic.py:4: UserWarning: IPython.utils.traitlets has moved to a top-level traitlets package.\n",
      "  from IPython.utils.traitlets import Bool, Int, Unicode\n"
     ]
    }
   ],
   "source": [
    "local_dir = '/home/neilor/SCIELO_DADOS/alacip/'\n",
    "connect_cmd = \"dbname='scielo_db' user='neilor' host='localhost' password='n1f2c3n1'\"\n",
    "%load_ext sql\n",
    "%sql postgresql://neilor:n1f2c3n1@/scielo_db\n",
    "import psycopg2 as pg"
   ]
  },
  {
   "cell_type": "code",
   "execution_count": 2,
   "metadata": {},
   "outputs": [
    {
     "name": "stdout",
     "output_type": "stream",
     "text": [
      "Done.\n",
      "Done.\n"
     ]
    },
    {
     "data": {
      "text/plain": [
       "[]"
      ]
     },
     "execution_count": 2,
     "metadata": {},
     "output_type": "execute_result"
    }
   ],
   "source": [
    "query_create_table_bolsistas = \"\"\"\n",
    "drop table if exists alacip.bolsistas;\n",
    "create table alacip.bolsistas \n",
    "(\n",
    "nome varchar,\n",
    "nivel varchar,\n",
    "inicio date,\n",
    "termino date,\n",
    "instituicao varchar,\n",
    "situacao varchar\n",
    ");\n",
    "\"\"\"\n",
    "\n",
    "%sql {query_create_table_bolsistas}"
   ]
  },
  {
   "cell_type": "code",
   "execution_count": 3,
   "metadata": {},
   "outputs": [
    {
     "name": "stdout",
     "output_type": "stream",
     "text": [
      "115 rows affected.\n"
     ]
    },
    {
     "data": {
      "text/plain": [
       "[]"
      ]
     },
     "execution_count": 3,
     "metadata": {},
     "output_type": "execute_result"
    }
   ],
   "source": [
    "arq_csv = local_dir+'bolsistas.csv'\n",
    "\n",
    "copy_csv = \"\"\"\n",
    "COPY alacip.bolsistas FROM '%s' WITH\n",
    "(\n",
    "    FORMAT CSV,\n",
    "    DELIMITER ';',\n",
    "    NULL '#NONE',\n",
    "    HEADER true,\n",
    "    QUOTE '\"',\n",
    "    ENCODING 'UTF-8'\n",
    ");\n",
    "\"\"\"\n",
    "%sql {copy_csv % arq_csv}"
   ]
  },
  {
   "cell_type": "markdown",
   "metadata": {},
   "source": [
    "### ATUALIZA NUMERO DE ARTIGOS EM BOLSISTAS"
   ]
  },
  {
   "cell_type": "code",
   "execution_count": 4,
   "metadata": {},
   "outputs": [
    {
     "name": "stdout",
     "output_type": "stream",
     "text": [
      "Done.\n",
      "Done.\n",
      "0 rows affected.\n"
     ]
    },
    {
     "data": {
      "text/plain": [
       "[]"
      ]
     },
     "execution_count": 4,
     "metadata": {},
     "output_type": "execute_result"
    }
   ],
   "source": [
    "query_add_num_artigos_em_bolsistas = \"\"\"\n",
    "alter table alacip.bolsistas drop column if exists num_artigos;\n",
    "alter table alacip.bolsistas add column num_artigos varchar;\n",
    "update alacip.bolsistas  as b \n",
    "set num_artigos = a.qtd \n",
    "from\n",
    "( select nome, count(*) as qtd from alacip.artigos_selecionados\n",
    "join alacip.bolsistas\n",
    "on autor_1_nome like nome\n",
    "or autor_2_nome like nome\n",
    "or autor_3_nome like nome\n",
    "or autor_4_nome like nome\n",
    "or autor_5_nome like nome\n",
    "or autor_6_nome like nome\n",
    "or autor_7_nome like nome\n",
    "or autor_8_nome like nome\n",
    "or autor_9_nome like nome\n",
    "or autor_10_nome like nome\n",
    "group by nome\n",
    ") as a\n",
    "where a.nome like b.nome\n",
    ";\n",
    "\"\"\"\n",
    "\n",
    "%sql {query_add_num_artigos_em_bolsistas}"
   ]
  },
  {
   "cell_type": "code",
   "execution_count": null,
   "metadata": {
    "collapsed": true
   },
   "outputs": [],
   "source": []
  }
 ],
 "metadata": {
  "kernelspec": {
   "display_name": "Python 3",
   "language": "python",
   "name": "python3"
  },
  "language_info": {
   "codemirror_mode": {
    "name": "ipython",
    "version": 3
   },
   "file_extension": ".py",
   "mimetype": "text/x-python",
   "name": "python",
   "nbconvert_exporter": "python",
   "pygments_lexer": "ipython3",
   "version": "3.6.2"
  }
 },
 "nbformat": 4,
 "nbformat_minor": 2
}
