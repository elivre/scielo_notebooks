{
 "cells": [
  {
   "cell_type": "code",
   "execution_count": 1,
   "metadata": {},
   "outputs": [
    {
     "name": "stderr",
     "output_type": "stream",
     "text": [
      "/home/neilor/anaconda3/lib/python3.6/site-packages/IPython/config.py:13: ShimWarning: The `IPython.config` package has been deprecated since IPython 4.0. You should import from traitlets.config instead.\n",
      "  \"You should import from traitlets.config instead.\", ShimWarning)\n",
      "/home/neilor/anaconda3/lib/python3.6/site-packages/sql/magic.py:4: UserWarning: IPython.utils.traitlets has moved to a top-level traitlets package.\n",
      "  from IPython.utils.traitlets import Bool, Int, Unicode\n"
     ]
    }
   ],
   "source": [
    "local_dir = '/home/neilor/SCIELO_DADOS/alacip/'\n",
    "connect_cmd = \"dbname='scielo_db' user='neilor' host='localhost' password='n1f2c3n1'\"\n",
    "%load_ext sql\n",
    "%sql postgresql://neilor:n1f2c3n1@/scielo_db\n",
    "import psycopg2 as pg\n",
    "        "
   ]
  },
  {
   "cell_type": "markdown",
   "metadata": {},
   "source": [
    "### Atualiza Autores (nome, instituicao, sexo) em artigos_selecionados"
   ]
  },
  {
   "cell_type": "code",
   "execution_count": 2,
   "metadata": {},
   "outputs": [
    {
     "ename": "ProgrammingError",
     "evalue": "relation \"alacip.autores_selecionados\" does not exist\nLINE 1: ...e_completo,autor_instituicao, autor_sexo     FROM alacip.aut...\n                                                             ^\n",
     "output_type": "error",
     "traceback": [
      "\u001b[0;31m---------------------------------------------------------------------------\u001b[0m",
      "\u001b[0;31mProgrammingError\u001b[0m                          Traceback (most recent call last)",
      "\u001b[0;32m<ipython-input-2-cfe02d3a6efa>\u001b[0m in \u001b[0;36m<module>\u001b[0;34m()\u001b[0m\n\u001b[1;32m     52\u001b[0m \u001b[0;34m\u001b[0m\u001b[0m\n\u001b[1;32m     53\u001b[0m \u001b[0;32mfor\u001b[0m \u001b[0mscielo_id\u001b[0m \u001b[0;32min\u001b[0m \u001b[0mcursor\u001b[0m\u001b[0;34m:\u001b[0m\u001b[0;34m\u001b[0m\u001b[0m\n\u001b[0;32m---> 54\u001b[0;31m     \u001b[0mupdate_autores\u001b[0m\u001b[0;34m(\u001b[0m\u001b[0mscielo_id\u001b[0m\u001b[0;34m[\u001b[0m\u001b[0;36m0\u001b[0m\u001b[0;34m]\u001b[0m\u001b[0;34m,\u001b[0m\u001b[0mconn\u001b[0m\u001b[0;34m)\u001b[0m\u001b[0;34m\u001b[0m\u001b[0m\n\u001b[0m\u001b[1;32m     55\u001b[0m \u001b[0;34m\u001b[0m\u001b[0m\n\u001b[1;32m     56\u001b[0m \u001b[0mcursor\u001b[0m\u001b[0;34m.\u001b[0m\u001b[0mclose\u001b[0m\u001b[0;34m(\u001b[0m\u001b[0;34m)\u001b[0m\u001b[0;34m\u001b[0m\u001b[0m\n",
      "\u001b[0;32m<ipython-input-2-cfe02d3a6efa>\u001b[0m in \u001b[0;36mupdate_autores\u001b[0;34m(id, conn)\u001b[0m\n\u001b[1;32m     15\u001b[0m \u001b[0;34m\u001b[0m\u001b[0m\n\u001b[1;32m     16\u001b[0m     \u001b[0mautores\u001b[0m \u001b[0;34m=\u001b[0m \u001b[0mconn\u001b[0m\u001b[0;34m.\u001b[0m\u001b[0mcursor\u001b[0m\u001b[0;34m(\u001b[0m\u001b[0;34m)\u001b[0m\u001b[0;34m\u001b[0m\u001b[0m\n\u001b[0;32m---> 17\u001b[0;31m     \u001b[0mautores\u001b[0m\u001b[0;34m.\u001b[0m\u001b[0mexecute\u001b[0m\u001b[0;34m(\u001b[0m\u001b[0msql\u001b[0m\u001b[0;34m)\u001b[0m\u001b[0;34m\u001b[0m\u001b[0m\n\u001b[0m\u001b[1;32m     18\u001b[0m \u001b[0;34m\u001b[0m\u001b[0m\n\u001b[1;32m     19\u001b[0m     \u001b[0mi\u001b[0m\u001b[0;34m=\u001b[0m\u001b[0;36m1\u001b[0m\u001b[0;34m\u001b[0m\u001b[0m\n",
      "\u001b[0;31mProgrammingError\u001b[0m: relation \"alacip.autores_selecionados\" does not exist\nLINE 1: ...e_completo,autor_instituicao, autor_sexo     FROM alacip.aut...\n                                                             ^\n"
     ]
    }
   ],
   "source": [
    "def get_sql_update_autor_nome(num, nome, scielo_id):\n",
    "    sql = \"update alacip.artigos_selecionados \" \\\n",
    "    +\"set autor_\"+num+\"_nome = '\"+nome+\"'\" \\\n",
    "    +\" where scielo_id like '\"+scielo_id+\"';\"\n",
    "    return sql\n",
    "\n",
    "def get_sql_update_autor_instituicao(num, instituicao, scielo_id):\n",
    "    sql = \"update alacip.artigos_selecionados \" \\\n",
    "    +\" set autor_\"+num+\"_vinculo_institucional = '\"+instituicao+\"'\"  \\\n",
    "    +\" where scielo_id like '\"+scielo_id+\"';\"\n",
    "    return sql\n",
    "\n",
    "def get_sql_update_autor_sexo(num, sexo, scielo_id):\n",
    "    sql = \"update alacip.artigos_selecionados \" \\\n",
    "    +\" set autor_\"+num+\"_sexo = '\"+sexo+\"'\"  \\\n",
    "    +\" where scielo_id like '\"+scielo_id+\"';\"\n",
    "    return sql\n",
    "\n",
    "def update_autores(id,conn):\n",
    "    sql = \"SELECT autor_nome_completo,autor_instituicao, autor_sexo \\\n",
    "    FROM alacip.autores_selecionados     \\\n",
    "    where artigo_scielo_id like '\"+id+\"';\"\n",
    "\n",
    "    autores = conn.cursor()\n",
    "    autores.execute(sql)\n",
    "\n",
    "    i=1\n",
    "    for autor in autores:\n",
    "        if i<11:\n",
    "            nome = autor[0]\n",
    "            instituicao = autor[1]\n",
    "            sexo = autor[2]\n",
    "\n",
    "            if nome != None:\n",
    "                nome = nome.replace(\"'\", \"''\")\n",
    "                atu_nome = get_sql_update_autor_nome(str(i),nome, id)\n",
    "                with conn:\n",
    "                    with conn.cursor() as curs:\n",
    "                        curs.execute(atu_nome)\n",
    "            if instituicao != None:\n",
    "                instituicao = instituicao.replace(\"'\", \"''\")\n",
    "                atu_instituicao = get_sql_update_autor_instituicao(str(i),instituicao, id)\n",
    "                with conn:\n",
    "                    with conn.cursor() as curs:\n",
    "                        curs.execute(atu_instituicao)\n",
    "            if sexo != None:\n",
    "                atu_sexo = get_sql_update_autor_sexo(str(i),sexo, id)\n",
    "                with conn:\n",
    "                    with conn.cursor() as curs:\n",
    "                        curs.execute(atu_sexo)  \n",
    "                        \n",
    "            i=i+1\n",
    "        \n",
    "    autores.close()\n",
    "\n",
    "    \n",
    "conn = pg.connect(\"dbname='scielo_db' user='neilor' host='localhost' password='n1f2c3n1'\")\n",
    "cursor = conn.cursor()\n",
    "cursor.execute(\"select scielo_id from alacip.artigos_selecionados;\")\n",
    "\n",
    "for scielo_id in cursor:\n",
    "    update_autores(scielo_id[0],conn)\n",
    "\n",
    "cursor.close()\n",
    "conn.close()   \n",
    "\n",
    "print( \" ATUALIZADOS AUTOR INSTITUICAO E SEXO\")    \n",
    "\n",
    "\n",
    "#print(get_lista_autores('S1415-47571998000100002'))"
   ]
  },
  {
   "cell_type": "markdown",
   "metadata": {},
   "source": [
    "### ATUALIZA AUTORES BOLSISTAS EM artigos_selecionados"
   ]
  },
  {
   "cell_type": "code",
   "execution_count": 3,
   "metadata": {},
   "outputs": [
    {
     "name": "stdout",
     "output_type": "stream",
     "text": [
      "7200 rows affected.\n",
      "7200 rows affected.\n",
      "7200 rows affected.\n",
      "7200 rows affected.\n",
      "7200 rows affected.\n",
      "7200 rows affected.\n",
      "7200 rows affected.\n",
      "7200 rows affected.\n",
      "7200 rows affected.\n",
      "7200 rows affected.\n",
      "45 rows affected.\n",
      "17 rows affected.\n",
      "1 rows affected.\n",
      "0 rows affected.\n",
      "0 rows affected.\n",
      "0 rows affected.\n",
      "0 rows affected.\n",
      "0 rows affected.\n",
      "0 rows affected.\n",
      "0 rows affected.\n"
     ]
    }
   ],
   "source": [
    "def get_sql_clear_bolsista(num):\n",
    "    sql = \"update alacip.artigos_selecionados  as a\" \\\n",
    "    +\" set autor_\"+str(num)+\"_pq = '0'\" \\\n",
    "    +\"     , bolsistas_pq = '0' \" \\\n",
    "    +\" ;\"  \n",
    "    return sql\n",
    "\n",
    "def get_sql_update_bolsista(num):\n",
    "    sql = \"update alacip.artigos_selecionados  as a\" \\\n",
    "    +\" set autor_\"+str(num)+\"_pq = '1' \" \\\n",
    "    +\"     , bolsistas_pq = cast((cast(bolsistas_pq as int)+1) as varchar) \" \\\n",
    "    +\" from alacip.bolsistas as b\" \\\n",
    "    +\" where upper(a.autor_\"+str(num)+\"_nome) in (select upper(nome) from alacip.bolsistas)\" \\\n",
    "    +\" and  a.artigo_ano >= cast(extract('year' from b.inicio) as varchar)\" \\\n",
    "    +\" and  a.artigo_ano <= cast(extract('year' from b.termino) as varchar)\" \\\n",
    "    +\";\"  \n",
    "    return sql\n",
    "\n",
    "for n in range(1,11):\n",
    "    %sql {get_sql_clear_bolsista(n)}\n",
    "\n",
    "for n in range(1,11):\n",
    "    %sql {get_sql_update_bolsista(n)}"
   ]
  },
  {
   "cell_type": "code",
   "execution_count": null,
   "metadata": {
    "collapsed": true
   },
   "outputs": [],
   "source": [
    "###  MARCA BOLSISTA EM ATORES SELECIONADOS"
   ]
  },
  {
   "cell_type": "code",
   "execution_count": null,
   "metadata": {
    "collapsed": true
   },
   "outputs": [],
   "source": [
    "def get_sql_clear_autor_pq():\n",
    "    sql = \"update alacip.atores_selecionados  as a\" \\\n",
    "    +\" set autor_pq = '0'\" \\\n",
    "    +\" ;\"  \n",
    "    return sql\n",
    "\n",
    "def get_sql_update_autor_pq():\n",
    "    sql = \"update alacip.atores_selecionados  as a\" \\\n",
    "    +\" set autor_pq = '1' \" \\\n",
    "    +\" from alacip.bolsistas as b\" \\\n",
    "    +\" ,alacip.artigos_selecionados as ar\"\\\n",
    "    +\" where upper(a.autor_nome_completo) in (select upper(nome) from alacip.bolsistas)\" \\\n",
    "    +\" and  ar.artigo_ano >= cast(extract('year' from b.inicio) as varchar)\" \\\n",
    "    +\" and  ar.artigo_ano <= cast(extract('year' from b.termino) as varchar)\" \\\n",
    "    +\";\"  \n",
    "    return sql\n",
    "\n",
    "sql_eh_bolsista = \"\"\"\n",
    "select autor_nome_completo, count(*) as qtd from alacip.autores_selecionados\n",
    "where autor_nome_completo in\n",
    "(select nome from alacip.bolsistas) \n",
    "group by autor_nome_completo\n",
    "\n",
    "\"\"\"\n",
    "\n",
    "%sql {get_sql_clear_autor_pq()}\n",
    "\n",
    "%sql {get_sql_update_autor_pq()}"
   ]
  }
 ],
 "metadata": {
  "kernelspec": {
   "display_name": "Python 3",
   "language": "python",
   "name": "python3"
  },
  "language_info": {
   "codemirror_mode": {
    "name": "ipython",
    "version": 3
   },
   "file_extension": ".py",
   "mimetype": "text/x-python",
   "name": "python",
   "nbconvert_exporter": "python",
   "pygments_lexer": "ipython3",
   "version": "3.6.2"
  }
 },
 "nbformat": 4,
 "nbformat_minor": 2
}
