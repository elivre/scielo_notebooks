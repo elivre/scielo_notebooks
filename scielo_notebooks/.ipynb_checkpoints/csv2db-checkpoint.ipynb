{
 "cells": [
  {
   "cell_type": "code",
   "execution_count": null,
   "metadata": {
    "collapsed": true
   },
   "outputs": [],
   "source": []
  },
  {
   "cell_type": "code",
   "execution_count": 7,
   "metadata": {},
   "outputs": [
    {
     "name": "stdout",
     "output_type": "stream",
     "text": [
      "dbname=\"scielo_db\" user=\"neilor\" host=\"localhost\" password=\"n1f2c3n1\"\n"
     ]
    }
   ],
   "source": [
    "import psycopg2 as pg\n",
    "import csv\n",
    "import os\n",
    "import sys\n",
    "\n",
    "def csv2db(dbname,user,host,password,csvfile):\n",
    "    connect_cmd='dbname=\"'+dbname+'\" user=\"'+user+'\" host=\"'+host+'\" password=\"'+password+'\"'\n",
    "    print(connect_cmd)\n",
    "#\"dbname='scielo_db' user='neilor' host='localhost' password='n1f2c3n1'\"\n",
    "csv2db('scielo_db','neilor','localhost','n1f2c3n1','file')\n",
    "def create_table_csv(schema,csvfile):\n",
    " \n",
    "    try:\n",
    "        conn = pg.connect(connect_cmd)\n",
    "    except:\n",
    "        print(\"Unable to connect to the database\")\n",
    "\n",
    "    cur = conn.cursor()\n",
    "\n",
    "    # remove the path and extension and use what's left as a table name\n",
    "    tablename = os.path.splitext(os.path.basename(csvfile))[0]\n",
    "    tablename = schema+'.'+tablename\n",
    "\n",
    "    with open(csvfile, \"r\") as f:\n",
    "        reader = csv.reader(f,delimiter='|', quotechar='\"')\n",
    "\n",
    "        header = True\n",
    "        for row in reader:\n",
    "            if header:\n",
    "                # gather column names from the first row of the csv\n",
    "                header = False\n",
    "\n",
    "                sql = \"DROP TABLE IF EXISTS %s;\" % tablename\n",
    "                cur.execute(sql)\n",
    "                sql = \"CREATE TABLE %s (%s)\" % (tablename,\n",
    "                          \", \".join([ \"%s varchar\" % column for column in row ]))\n",
    "                cur.execute(sql)\n",
    "                conn.commit()\n",
    "\n",
    "                for column in row:\n",
    "                    if column.lower().endswith(\"_id\"):\n",
    "                        index = \"%s__%s\" % ( tablename, column )\n",
    "                        sql = \"CREATE INDEX %s on %s (%s)\" % ( index, tablename, column )\n",
    "                        cur.execute(sql)\n",
    "                        conn.commit()\n",
    "            else:\n",
    "                insertsql = \"INSERT INTO %s VALUES (E'%s')\" % (tablename,\"',E'\".join( row))\n",
    "                # skip lines that don't have the right number of columns\n",
    "                cur.execute(insertsql)\n",
    "                conn.commit()\n",
    "\n",
    "    cur.close()\n",
    "    conn.close()"
   ]
  },
  {
   "cell_type": "code",
   "execution_count": null,
   "metadata": {
    "collapsed": true
   },
   "outputs": [],
   "source": []
  }
 ],
 "metadata": {
  "kernelspec": {
   "display_name": "Python 3",
   "language": "python",
   "name": "python3"
  },
  "language_info": {
   "codemirror_mode": {
    "name": "ipython",
    "version": 3
   },
   "file_extension": ".py",
   "mimetype": "text/x-python",
   "name": "python",
   "nbconvert_exporter": "python",
   "pygments_lexer": "ipython3",
   "version": "3.6.2"
  }
 },
 "nbformat": 4,
 "nbformat_minor": 2
}
