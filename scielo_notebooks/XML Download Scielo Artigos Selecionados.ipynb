{
 "cells": [
  {
   "cell_type": "code",
   "execution_count": 3,
   "metadata": {
    "collapsed": false
   },
   "outputs": [
    {
     "data": {
      "text/plain": [
       "'Connected: neilor@scielo_db'"
      ]
     },
     "execution_count": 3,
     "metadata": {},
     "output_type": "execute_result"
    }
   ],
   "source": [
    "local_dir = '/home/neilor/scielo_db/dados'\n",
    "connect_cmd = \"dbname='scielo_db' user='neilor' host='localhost' password='n1f2c3n1'\"\n",
    "%load_ext sql\n",
    "%sql postgresql://neilor:n1f2c3n1@/scielo_db"
   ]
  },
  {
   "cell_type": "code",
   "execution_count": 11,
   "metadata": {
    "collapsed": true
   },
   "outputs": [],
   "source": [
    "  \n",
    "import wgetter\n",
    "import time\n",
    "import os\n",
    "import pandas as pd\n",
    "import psycopg2 as pg\n",
    "from pathlib import Path"
   ]
  },
  {
   "cell_type": "code",
   "execution_count": 22,
   "metadata": {
    "collapsed": false
   },
   "outputs": [],
   "source": [
    "path_xml_dir = local_dir+'/artigos_xml'\n",
    "\n",
    "os.chdir(path_xml_dir)\n",
    "\n",
    "conn = pg.connect(\"dbname='scielo_db' user='neilor' host='localhost' password='n1f2c3n1'\")\n",
    "sql_publishing_id_scielo = \"select scielo_id from alacip.artigos_selecionados\"\n",
    "\n",
    "\n",
    "df = pd.read_sql_query(sql_publishing_id_scielo, conn)\n",
    "\n",
    "count=0\n",
    "for id in df['scielo_id']:\n",
    "    url = 'http://www.scielo.br/scieloOrg/php/articleXML.php?pid='+id\n",
    "    file_name = path_xml_dir+'/'+id +'.xml'\n",
    "    file_path = Path(file_name)\n",
    "    if not file_path.is_file():\n",
    "        wgetter.download(url,path_xml_dir)\n",
    "        print(file_name,' dwonloaded')    \n",
    "        os.rename(path_xml_dir+'/articleXML.php',file_name)"
   ]
  },
  {
   "cell_type": "code",
   "execution_count": null,
   "metadata": {
    "collapsed": true
   },
   "outputs": [],
   "source": []
  },
  {
   "cell_type": "code",
   "execution_count": null,
   "metadata": {
    "collapsed": true
   },
   "outputs": [],
   "source": []
  }
 ],
 "metadata": {
  "kernelspec": {
   "display_name": "Python 3",
   "language": "python",
   "name": "python3"
  },
  "language_info": {
   "codemirror_mode": {
    "name": "ipython",
    "version": 3
   },
   "file_extension": ".py",
   "mimetype": "text/x-python",
   "name": "python",
   "nbconvert_exporter": "python",
   "pygments_lexer": "ipython3",
   "version": "3.6.0"
  }
 },
 "nbformat": 4,
 "nbformat_minor": 2
}
