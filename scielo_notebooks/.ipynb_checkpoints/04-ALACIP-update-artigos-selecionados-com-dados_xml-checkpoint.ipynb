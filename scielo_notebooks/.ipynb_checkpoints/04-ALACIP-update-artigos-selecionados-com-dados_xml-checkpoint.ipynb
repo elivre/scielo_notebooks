{
 "cells": [
  {
   "cell_type": "code",
   "execution_count": 1,
   "metadata": {
    "collapsed": false
   },
   "outputs": [],
   "source": [
    "local_dir = '/home/neilor/scielo_db/dados'\n",
    "connect_cmd = \"dbname='scielo_db' user='neilor' host='localhost' password='n1f2c3n1'\"\n",
    "%load_ext sql\n",
    "%sql postgresql://neilor:n1f2c3n1@/scielo_db\n",
    "import psycopg2 as pg\n"
   ]
  },
  {
   "cell_type": "code",
   "execution_count": 9,
   "metadata": {
    "collapsed": false
   },
   "outputs": [
    {
     "name": "stdout",
     "output_type": "stream",
     "text": [
      "7200 rows affected.\n",
      "7200 rows affected.\n",
      " ARTIGOS PALAVRA-CHAVE ATUALIZADAS\n"
     ]
    }
   ],
   "source": [
    "query_update_palavras_chave = \"update alacip.artigos_selecionados as a\"\\\n",
    "            +\" set palavra_chave1 = x.palavra_chave1\" \\\n",
    "            +\",palavra_chave2 = x.palavra_chave2\" \\\n",
    "            +\",palavra_chave3 = x.palavra_chave3\" \\\n",
    "            +\",palavra_chave4 = x.palavra_chave4\" \\\n",
    "            +\",palavra_chave5 = x.palavra_chave5\" \\\n",
    "            +\" from alacip.artigos_dados_xml as x \" \\\n",
    "            +\" where x.scielo_id like a.scielo_id;\" \n",
    "\n",
    "%sql {query_update_palavras_chave}\n",
    "\n",
    "query_update_key_words = \"update alacip.artigos_selecionados as a\"\\\n",
    "            +\" set key_word1 = x.key_word1\" \\\n",
    "            +\",key_word2 = x.key_word2\" \\\n",
    "            +\",key_word3 = x.key_word3\" \\\n",
    "            +\",key_word4 = x.key_word4\" \\\n",
    "            +\",key_word5 = x.key_word5\" \\\n",
    "            +\" from alacip.artigos_dados_xml as x \" \\\n",
    "            +\" where x.scielo_id like a.scielo_id;\" \n",
    "\n",
    "%sql {query_update_key_words}\n",
    "\n",
    " \n",
    "\n",
    "print(\" ARTIGOS PALAVRA-CHAVE ATUALIZADAS\")  "
   ]
  },
  {
   "cell_type": "code",
   "execution_count": 10,
   "metadata": {
    "collapsed": false
   },
   "outputs": [
    {
     "name": "stdout",
     "output_type": "stream",
     "text": [
      "7200 rows affected.\n",
      "7200 rows affected.\n",
      " ARTIGOS RESUMO ATUALIZADOS\n"
     ]
    }
   ],
   "source": [
    "\n",
    "query_update_resumo = \"update alacip.artigos_selecionados as a\"\\\n",
    "            +\" set resumo = x.resumo\" \\\n",
    "            +\" from alacip.artigos_dados_xml as x \" \\\n",
    "            +\" where x.scielo_id like a.scielo_id;\" \n",
    "\n",
    "%sql {query_update_resumo}\n",
    "\n",
    "query_update_abstract = \"update alacip.artigos_selecionados as a\"\\\n",
    "            +\" set abstract = x.abstract\" \\\n",
    "            +\" from alacip.artigos_dados_xml as x \" \\\n",
    "            +\" where x.scielo_id like a.scielo_id;\" \n",
    "\n",
    "%sql {query_update_resumo}\n",
    "\n",
    "print(\" ARTIGOS RESUMO ATUALIZADOS\")"
   ]
  },
  {
   "cell_type": "code",
   "execution_count": 6,
   "metadata": {
    "collapsed": false
   },
   "outputs": [
    {
     "name": "stdout",
     "output_type": "stream",
     "text": [
      "7200 rows affected.\n",
      " ARTIGOS TITULO ATUALIZADOS\n"
     ]
    }
   ],
   "source": [
    "query_update_titulo = \"update alacip.artigos_selecionados as a\"\\\n",
    "            +\" set artigo_titulo = x.titulo\" \\\n",
    "            +\" from alacip.artigos_dados_xml as x \" \\\n",
    "            +\" where x.scielo_id like a.scielo_id;\" \n",
    "\n",
    "%sql {query_update_titulo}\n",
    "\n",
    "print(\" ARTIGOS TITULO ATUALIZADOS\")"
   ]
  },
  {
   "cell_type": "code",
   "execution_count": 8,
   "metadata": {
    "collapsed": false
   },
   "outputs": [
    {
     "name": "stdout",
     "output_type": "stream",
     "text": [
      "7200 rows affected.\n",
      "5379 rows affected.\n"
     ]
    },
    {
     "data": {
      "text/plain": [
       "[]"
      ]
     },
     "execution_count": 8,
     "metadata": {},
     "output_type": "execute_result"
    }
   ],
   "source": [
    "query_update_colunas_analise_empirico = \"\"\"\n",
    "update alacip.artigos_selecionados as a\n",
    "set tem_tabela = x.tem_tabela,\n",
    "    tem_quadro = x.tem_quadro,\n",
    "    tem_grafico = x.tem_grafico,\n",
    "    tem_diagrama = x.tem_diagrama,\n",
    "    tem_figura = x.tem_figura,\n",
    "    empirico = '0'\n",
    "from alacip.artigos_dados_xml as x\n",
    "where x.scielo_id like a.scielo_id\n",
    ";\n",
    "\n",
    "update alacip.artigos_selecionados as a\n",
    "    set empirico = '1'\n",
    "where \n",
    "    tem_tabela = '1'\n",
    "    or\n",
    "    tem_quadro = '1'\n",
    "    or\n",
    "    tem_grafico = '1'\n",
    "    or\n",
    "    tem_diagrama = '1'\n",
    "    or\n",
    "    tem_figura = '1'\n",
    ";\n",
    "\"\"\"\n",
    "\n",
    "%sql {query_update_colunas_analise_empirico}"
   ]
  },
  {
   "cell_type": "code",
   "execution_count": null,
   "metadata": {
    "collapsed": true
   },
   "outputs": [],
   "source": []
  }
 ],
 "metadata": {
  "kernelspec": {
   "display_name": "Python 3",
   "language": "python",
   "name": "python3"
  },
  "language_info": {
   "codemirror_mode": {
    "name": "ipython",
    "version": 3
   },
   "file_extension": ".py",
   "mimetype": "text/x-python",
   "name": "python",
   "nbconvert_exporter": "python",
   "pygments_lexer": "ipython3",
   "version": "3.6.0"
  }
 },
 "nbformat": 4,
 "nbformat_minor": 2
}
