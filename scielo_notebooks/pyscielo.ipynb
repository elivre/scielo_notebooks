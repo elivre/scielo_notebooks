{
 "cells": [
  {
   "cell_type": "code",
   "execution_count": null,
   "metadata": {
    "collapsed": true
   },
   "outputs": [],
   "source": [
    "import re\n",
    "def normalizar_nome(nome):\n",
    "    nome1 = nome.upper()\n",
    "    nome2 = nome1.replace('Y','I')\n",
    "    nome3 = nome2.replace('LL','L')\n",
    "    n0 = nome3\n",
    "    n1=re.sub('[Á|á|À|à|Â|â|Ã|ã|Ä|ä]','A',n0)\n",
    "    n2=re.sub('[É|é|È|è|Ê|ê|Ẽ|ẽ|Ë|ë]','E',n1)\n",
    "    n3=re.sub('[Í|í|Ì|ì|Î|î|Ĩ|ĩ|Ï|ï]','I',n2)\n",
    "    n4=re.sub('[Ó|ó|Ò|ò|Ô|ô|Õ|õ|Ö|ö]','O',n3)\n",
    "    n5=re.sub('[Ú|ú|Ù|ù|Û|û|Ũ|ũ|Ü|ü]','U',n4)\n",
    "    n6=re.sub('[Ý|ý|Ỳ|ỳ|Ŷ|ŷ|Ỹ|ỹ|Ÿ|ÿ]','I',n5)\n",
    "    n7=re.sub('[Ç|ç]','C',n6)\n",
    "    n8=n7.upper()\n",
    "    n9=n8.replace('LL','L')\n",
    "    n10=n9.replace('NN','N')\n",
    "    n11=n10.replace('EE','E')\n",
    "    n12=n11.replace('TT','T')\n",
    "    return re.sub('[\\s+]', '', n12)"
   ]
  },
  {
   "cell_type": "code",
   "execution_count": null,
   "metadata": {
    "collapsed": true
   },
   "outputs": [],
   "source": []
  },
  {
   "cell_type": "code",
   "execution_count": null,
   "metadata": {
    "collapsed": true
   },
   "outputs": [],
   "source": [
    "import re\n",
    "def normalizar_nome(nome):\n",
    "    if nome != None:\n",
    "        nome1 = nome.upper()\n",
    "        nome2 = nome1.replace('Y','I')\n",
    "        nome3 = nome2.replace('LL','L')\n",
    "        n0 = nome3\n",
    "        n1=re.sub('[Á|á|À|à|Â|â|Ã|ã|Ä|ä]','A',n0)\n",
    "        n2=re.sub('[É|é|È|è|Ê|ê|Ẽ|ẽ|Ë|ë]','E',n1)\n",
    "        n3=re.sub('[Í|í|Ì|ì|Î|î|Ĩ|ĩ|Ï|ï]','I',n2)\n",
    "        n4=re.sub('[Ó|ó|Ò|ò|Ô|ô|Õ|õ|Ö|ö]','O',n3)\n",
    "        n5=re.sub('[Ú|ú|Ù|ù|Û|û|Ũ|ũ|Ü|ü]','U',n4)\n",
    "        n6=re.sub('[Ý|ý|Ỳ|ỳ|Ŷ|ŷ|Ỹ|ỹ|Ÿ|ÿ]','I',n5)\n",
    "        n7=re.sub('[Ç|ç]','C',n6)\n",
    "        n8=n7.replace('W','V')\n",
    "        n9=n8.replace('LL','L')\n",
    "        n10=n9.replace('TT','T')\n",
    "        n11=n10.replace('AA','A')\n",
    "        n12=n11.replace('MM','M')\n",
    "        n13=n12.replace('NN','N')\n",
    "        n14=n13.replace('RR','R')\n",
    "        n15=n14.replace('SS','S')\n",
    "        n16=n15.replace('BB','B')\n",
    "        n17=n16.replace('EE','E')\n",
    "        n18=n17.replace('DD','D')\n",
    "        n19=n18.replace('HH','H')\n",
    "        return re.sub('[\\s+]', '', n19)\n",
    "    else:\n",
    "        return nome"
   ]
  },
  {
   "cell_type": "code",
   "execution_count": 1,
   "metadata": {
    "collapsed": true
   },
   "outputs": [],
   "source": [
    "def get_nome_completo_normal(nome_completo):\n",
    "    if nome_completo != None:\n",
    "        n0=nome_completo.upper()\n",
    "        n1=n0.replace('.',' ')\n",
    "        n2=n1.replace(' DO ',' ')\n",
    "        n3=n2.replace(' DA ',' ')\n",
    "        n4=n3.replace(' DE ',' ')\n",
    "        n5=n4.replace(' NETO','-NETO')\n",
    "        n6=n5.replace(' FILHO','-FILHO')\n",
    "        n7=n6.replace(' JÚNIOR','-JUNIOR')\n",
    "        n8=n7.replace(' JUNIOR','-JUNIOR')\n",
    "        n9=n8.replace(' JR','-JUNIOR')\n",
    "        nomes = n9.split()\n",
    "        s=len(nomes)\n",
    "        nomes_meio=[]\n",
    "        for i in range(1,s-1):\n",
    "            nomes_meio.append(nomes[i][0])\n",
    "\n",
    "        nome_normal = nomes[0]\n",
    "        for x in nomes_meio:\n",
    "            nome_normal =nome_normal+' '+x\n",
    "        nome_normal = nome_normal+' '+nomes[s-1]\n",
    "        \n",
    "        return(nome_normal)"
   ]
  },
  {
   "cell_type": "code",
   "execution_count": 4,
   "metadata": {},
   "outputs": [
    {
     "data": {
      "text/plain": [
       "'NEILOR F CAMARGO'"
      ]
     },
     "execution_count": 4,
     "metadata": {},
     "output_type": "execute_result"
    }
   ],
   "source": [
    "get_nome_completo_normal('Neilor   Fermino   Camargo')"
   ]
  },
  {
   "cell_type": "code",
   "execution_count": null,
   "metadata": {
    "collapsed": true
   },
   "outputs": [],
   "source": []
  }
 ],
 "metadata": {
  "kernelspec": {
   "display_name": "Python 3",
   "language": "python",
   "name": "python3"
  },
  "language_info": {
   "codemirror_mode": {
    "name": "ipython",
    "version": 3
   },
   "file_extension": ".py",
   "mimetype": "text/x-python",
   "name": "python",
   "nbconvert_exporter": "python",
   "pygments_lexer": "ipython3",
   "version": "3.6.2"
  }
 },
 "nbformat": 4,
 "nbformat_minor": 2
}
