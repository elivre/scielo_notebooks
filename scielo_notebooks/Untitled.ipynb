{
 "cells": [
  {
   "cell_type": "code",
   "execution_count": 1,
   "metadata": {
    "collapsed": true
   },
   "outputs": [],
   "source": [
    "local_dir = '/home/neilor/SCIELO_DADOS/dados'\n",
    "connect_cmd = \"dbname='scielo_db' user='neilor' host='localhost' password='n1f2c3n1'\""
   ]
  },
  {
   "cell_type": "code",
   "execution_count": 2,
   "metadata": {
    "collapsed": true
   },
   "outputs": [],
   "source": [
    "import os\n",
    "import psycopg2 as pg\n",
    "import os.path"
   ]
  },
  {
   "cell_type": "code",
   "execution_count": 4,
   "metadata": {},
   "outputs": [
    {
     "data": {
      "text/html": [
       "<div>\n",
       "<table border=\"1\" class=\"dataframe\">\n",
       "  <thead>\n",
       "    <tr style=\"text-align: right;\">\n",
       "      <th></th>\n",
       "      <th>artigo_scielo_id</th>\n",
       "      <th>autor_nome_completo</th>\n",
       "      <th>autor_sobrenome</th>\n",
       "      <th>autor_nome</th>\n",
       "      <th>autor_nome_normal</th>\n",
       "      <th>autor_sexo</th>\n",
       "      <th>autor_instituicao</th>\n",
       "      <th>autor_cidade_instituicao</th>\n",
       "      <th>autor_pq</th>\n",
       "    </tr>\n",
       "  </thead>\n",
       "  <tbody>\n",
       "    <tr>\n",
       "      <th>0</th>\n",
       "      <td>S1415-47572007000600005</td>\n",
       "      <td>Flávio Vieira Meirelles</td>\n",
       "      <td>#NONE</td>\n",
       "      <td>Flávio</td>\n",
       "      <td>FLAVIO</td>\n",
       "      <td>M</td>\n",
       "      <td>Universidade de São Paulo</td>\n",
       "      <td>Pirassununga</td>\n",
       "      <td>#NONE</td>\n",
       "    </tr>\n",
       "    <tr>\n",
       "      <th>1</th>\n",
       "      <td>S0034-71402005000200006</td>\n",
       "      <td>Flávio Vilela Vieira</td>\n",
       "      <td>#NONE</td>\n",
       "      <td>Flávio</td>\n",
       "      <td>FLAVIO</td>\n",
       "      <td>M</td>\n",
       "      <td>Universidade Federal de Uberlândia</td>\n",
       "      <td></td>\n",
       "      <td>#NONE</td>\n",
       "    </tr>\n",
       "    <tr>\n",
       "      <th>2</th>\n",
       "      <td>S1415-47572008000400010</td>\n",
       "      <td>Flávio V. Meirelles</td>\n",
       "      <td>#NONE</td>\n",
       "      <td>Flávio</td>\n",
       "      <td>FLAVIO</td>\n",
       "      <td>M</td>\n",
       "      <td>Universidade de São Paulo</td>\n",
       "      <td>Pirassununga</td>\n",
       "      <td>#NONE</td>\n",
       "    </tr>\n",
       "    <tr>\n",
       "      <th>3</th>\n",
       "      <td>S1415-47571999000400013</td>\n",
       "      <td>Flávio V. Meirelles</td>\n",
       "      <td>#NONE</td>\n",
       "      <td>Flávio</td>\n",
       "      <td>FLAVIO</td>\n",
       "      <td>M</td>\n",
       "      <td>USP</td>\n",
       "      <td>Ribeirão Preto</td>\n",
       "      <td>#NONE</td>\n",
       "    </tr>\n",
       "    <tr>\n",
       "      <th>4</th>\n",
       "      <td>S0034-71402007000400005</td>\n",
       "      <td>Francisco A. Alcaraz Garcia</td>\n",
       "      <td>#NONE</td>\n",
       "      <td>Francisco</td>\n",
       "      <td>FRANCISCO</td>\n",
       "      <td>M</td>\n",
       "      <td>Pontifícia Universidade Católica do Rio de Jan...</td>\n",
       "      <td></td>\n",
       "      <td>#NONE</td>\n",
       "    </tr>\n",
       "  </tbody>\n",
       "</table>\n",
       "</div>"
      ],
      "text/plain": [
       "          artigo_scielo_id          autor_nome_completo autor_sobrenome  \\\n",
       "0  S1415-47572007000600005      Flávio Vieira Meirelles           #NONE   \n",
       "1  S0034-71402005000200006         Flávio Vilela Vieira           #NONE   \n",
       "2  S1415-47572008000400010          Flávio V. Meirelles           #NONE   \n",
       "3  S1415-47571999000400013          Flávio V. Meirelles           #NONE   \n",
       "4  S0034-71402007000400005  Francisco A. Alcaraz Garcia           #NONE   \n",
       "\n",
       "  autor_nome autor_nome_normal autor_sexo  \\\n",
       "0     Flávio            FLAVIO          M   \n",
       "1     Flávio            FLAVIO          M   \n",
       "2     Flávio            FLAVIO          M   \n",
       "3     Flávio            FLAVIO          M   \n",
       "4  Francisco         FRANCISCO          M   \n",
       "\n",
       "                                   autor_instituicao autor_cidade_instituicao  \\\n",
       "0                          Universidade de São Paulo             Pirassununga   \n",
       "1                 Universidade Federal de Uberlândia                            \n",
       "2                          Universidade de São Paulo             Pirassununga   \n",
       "3                                                USP           Ribeirão Preto   \n",
       "4  Pontifícia Universidade Católica do Rio de Jan...                            \n",
       "\n",
       "  autor_pq  \n",
       "0    #NONE  \n",
       "1    #NONE  \n",
       "2    #NONE  \n",
       "3    #NONE  \n",
       "4    #NONE  "
      ]
     },
     "execution_count": 4,
     "metadata": {},
     "output_type": "execute_result"
    }
   ],
   "source": [
    "import pandas as pd\n",
    "import numpy as np\n",
    "\n",
    "conn = pg.connect(connect_cmd)\n",
    "df_autores = pd.read_sql('select * from alacip.autores_selecionados', conn)\n",
    "df_autores.fillna('#NULO')\n",
    "conn.close()\n",
    "df_autores.head()"
   ]
  },
  {
   "cell_type": "code",
   "execution_count": 5,
   "metadata": {},
   "outputs": [
    {
     "data": {
      "text/plain": [
       "Universidade de São Paulo                                      1614\n",
       "Universidade Federal do Rio Grande do Sul                       728\n",
       "Universidade Estadual Paulista                                  630\n",
       "Universidade Estadual de Campinas                               447\n",
       "Universidade de Brasília                                        438\n",
       "Universidade Federal do Rio de Janeiro                          367\n",
       "Universidade Federal de Viçosa                                  336\n",
       "Universidade Federal do Paraná                                  283\n",
       "Universidade Federal do Pará                                    272\n",
       "Universidade Federal de Minas Gerais                            269\n",
       "Universidade Federal de São Carlos                              243\n",
       "Universidade Federal de Pernambuco                              218\n",
       "Universidade Estadual de Londrina                               212\n",
       "Fundação Getúlio Vargas                                         146\n",
       "Universidade do Estado do Rio de Janeiro                        141\n",
       "Universidade Federal de Santa Catarina                          134\n",
       "Universidade Federal Fluminense                                 122\n",
       "Instituto Agronômico de Campinas                                118\n",
       "Pontifícia Universidade Católica do Rio de Janeiro              117\n",
       "Universidade Estadual de Maringá                                116\n",
       "Universidade Federal de Goiás                                   112\n",
       "Universidade Federal de Uberlândia                              108\n",
       "Universidade Federal da Bahia                                    96\n",
       "Universidade Federal de São Paulo                                91\n",
       "USP                                                              83\n",
       "Universidad de Buenos Aires                                      81\n",
       "Universidade Federal do Ceará                                    76\n",
       "Instituto Agronômico                                             72\n",
       "Embrapa                                                          70\n",
       "Sichuan Agricultural University                                  62\n",
       "                                                               ... \n",
       "Vrije Universiteit Brussel                                        1\n",
       "Leiden University Medical Center                                  1\n",
       "Institut des Sciences de la Mer de Rimouski                       1\n",
       "Faculdade Integrada JoséAugusto Vieira                            1\n",
       "Universidade Estadual Paulista - Unesp -, Campus Franca           1\n",
       "Escola Técnica Federal de Goiás                                   1\n",
       "Università degli Studi di Sassari                                 1\n",
       "Universidade de Western Sydney-Nepean                             1\n",
       "Uerj                                                              1\n",
       "Universidade Nacional Autónoma                                    1\n",
       "Vasavi Medical and Research Centre                                1\n",
       "Universität Hildesheim                                            1\n",
       "Universidade de Valência                                          1\n",
       "Universidade Católica do Chile                                    1\n",
       "La Misericordia University Hospital                               1\n",
       "Universidade de Oxford                                            1\n",
       "Centro de Referencia para Imunobiologicos Especiais               1\n",
       "Centre Régional de Transfusion Sanguine de Gabès                  1\n",
       "Instituto de Estudos de Politica Economica                        1\n",
       "Connecticut Agricultural Experiment Station                       1\n",
       "Faculdade de Agronomia Dr. Francisco Maeda                        1\n",
       "Universidade de Paris IV                                          1\n",
       "Impa/RJ                                                           1\n",
       "Fundacão Getúlio Vargas                                           1\n",
       "Ipea                                                              1\n",
       "Hemocentro do Rio Grande do Norte                                 1\n",
       "Comissão Executiva de Planejamento da Lavoura Cacaueira           1\n",
       "Universidade de Milão-Bicocca                                     1\n",
       "University of Leeds                                               1\n",
       "Núcleo de Assuntos Estratégicos da Presidência da República       1\n",
       "Name: autor_instituicao, dtype: int64"
      ]
     },
     "execution_count": 5,
     "metadata": {},
     "output_type": "execute_result"
    }
   ],
   "source": [
    "df_autores['autor_instituicao'].value_counts()"
   ]
  },
  {
   "cell_type": "code",
   "execution_count": 1,
   "metadata": {},
   "outputs": [
    {
     "data": {
      "text/html": [
       "<iframe width=\"560\" height=\"315\" src=\"https://www.youtube.com/embed/S_f2qV2_U00?rel=0&amp;controls=0&amp;showinfo=0\" frameborder=\"0\" allowfullscreen></iframe>"
      ],
      "text/plain": [
       "<IPython.core.display.HTML object>"
      ]
     },
     "execution_count": 1,
     "metadata": {},
     "output_type": "execute_result"
    }
   ],
   "source": [
    "from IPython.display import HTML\n",
    "\n",
    "# Youtube\n",
    "HTML('<iframe width=\"560\" height=\"315\" src=\"https://www.youtube.com/embed/S_f2qV2_U00?rel=0&amp;controls=0&amp;showinfo=0\" frameborder=\"0\" allowfullscreen></iframe>')\n"
   ]
  },
  {
   "cell_type": "code",
   "execution_count": null,
   "metadata": {
    "collapsed": true
   },
   "outputs": [],
   "source": []
  }
 ],
 "metadata": {
  "kernelspec": {
   "display_name": "Python 3",
   "language": "python",
   "name": "python3"
  },
  "language_info": {
   "codemirror_mode": {
    "name": "ipython",
    "version": 3
   },
   "file_extension": ".py",
   "mimetype": "text/x-python",
   "name": "python",
   "nbconvert_exporter": "python",
   "pygments_lexer": "ipython3",
   "version": "3.6.2"
  }
 },
 "nbformat": 4,
 "nbformat_minor": 2
}
