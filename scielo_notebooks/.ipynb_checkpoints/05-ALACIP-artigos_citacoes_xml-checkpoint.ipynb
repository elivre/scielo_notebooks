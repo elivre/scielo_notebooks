{
 "cells": [
  {
   "cell_type": "code",
   "execution_count": null,
   "metadata": {
    "collapsed": false
   },
   "outputs": [],
   "source": [
    "local_dir = '/home/neilor/scielo_db/dados'\n",
    "xml_dir = '/home/neilor/scielo_db/dados/artigos_xml'\n",
    "connect_cmd = \"dbname='scielo_db' user='neilor' host='localhost' password='n1f2c3n1'\"\n",
    "%load_ext sql\n",
    "%sql postgresql://neilor:n1f2c3n1@/scielo_db"
   ]
  },
  {
   "cell_type": "code",
   "execution_count": null,
   "metadata": {
    "collapsed": true
   },
   "outputs": [],
   "source": [
    "import wgetter\n",
    "import time\n",
    "import os\n",
    "import pandas as pd\n",
    "import psycopg2 as pg\n",
    "from pathlib import Path\n",
    "from lxml import etree\n",
    "from xml.etree.ElementTree import ParseError"
   ]
  },
  {
   "cell_type": "code",
   "execution_count": null,
   "metadata": {
    "collapsed": false
   },
   "outputs": [],
   "source": [
    "query_create_table_artigos_citacoes_xml = \"\"\"\n",
    "drop table if exists alacip.artigos_citacoes_xml;\n",
    "create table alacip.artigos_citacoes_xml\n",
    "(\n",
    "    scielo_id varchar,\n",
    "    titulo text,\n",
    "    resumo text,\n",
    "    palavra_chave1 varchar,\n",
    "    palavra_chave2 varchar,\n",
    "    palavra_chave3 varchar,\n",
    "    palavra_chave4 varchar,\n",
    "    palavra_chave5 varchar,\n",
    "    empirico varchar,\n",
    "    tem_tabela varchar,\n",
    "    tem_quadro varchar,\n",
    "    tem_grafico varchar,\n",
    "    tem_diagrama varchar,\n",
    "    tem_figura varchar,\n",
    "    abstract text,\n",
    "    key_word1 varchar,\n",
    "    key_word2 varchar,\n",
    "    key_word3 varchar,\n",
    "    key_word4 varchar,\n",
    "    key_word5 varchar,\n",
    "    texto text\n",
    ");\n",
    "\n",
    "CREATE INDEX texto_idx ON alacip.artigos_citacoes_xml USING GIN (to_tsvector('portuguese', texto));\n",
    "\"\"\"\n",
    "\n",
    "%sql {query_create_table_artigos_citacoes_xml}\n"
   ]
  },
  {
   "cell_type": "code",
   "execution_count": null,
   "metadata": {
    "collapsed": false
   },
   "outputs": [],
   "source": [
    "#url_xml = 'file:///home/neilor/scielo_db/dados/artigos_xml/S0011-52581996000300001.xml'\n",
    "url_xml = 'file:///home/neilor/scielo_db/dados/artigos_xml/S0104-62762016000100028.xml'\n",
    "tree = etree.parse(url_xml)\n",
    "\n",
    "\n",
    "def get_citacoes_de_livro(tree):\n",
    "    books=tree.xpath('/article/back/ref-list/ref/nlm-citation[@citation-type=\"book\"]/*')\n",
    "    for b in books:\n",
    "        scielo_id = ''\n",
    "        livro=''\n",
    "                        \n",
    "        #print(b.tag,b.text)\n",
    "        if b.tag=='source':\n",
    "            print('livro:',b.text)\n",
    "        elif b.tag == 'person-group' and b.attrib['person-group-type']=='author':\n",
    "            print('autor')\n",
    "            for p in b[0]:\n",
    "                print(p.tag,p.text)\n",
    "        elif b.tag == 'person-group' and b.attrib['person-group-type']=='editor':\n",
    "            print('editor')\n",
    "            for p in b[0]:\n",
    "                print(p.tag,p.text)\n",
    "        elif b.tag=='source':\n",
    "            print('fonte:',b.text)\n",
    "        elif b.tag=='article-title':\n",
    "            print('artigo_titulo',b.text)\n",
    "\n",
    "\n",
    "get_citacoes_de_livro(tree)"
   ]
  },
  {
   "cell_type": "code",
   "execution_count": null,
   "metadata": {
    "collapsed": false
   },
   "outputs": [],
   "source": [
    "sql_publishing_id_scielo = \"select texto from alacip.artigos_citacoes_xml\"\n",
    "\n",
    "conn = pg.connect(\"dbname='scielo_db' user='neilor' host='localhost' password='n1f2c3n1'\")\n",
    "df = pd.read_sql_query(sql_publishing_id_scielo, conn)\n",
    "conn.close()\n",
    "\n",
    "df"
   ]
  },
  {
   "cell_type": "code",
   "execution_count": null,
   "metadata": {
    "collapsed": true
   },
   "outputs": [],
   "source": []
  }
 ],
 "metadata": {
  "kernelspec": {
   "display_name": "Python 3",
   "language": "python",
   "name": "python3"
  },
  "language_info": {
   "codemirror_mode": {
    "name": "ipython",
    "version": 3
   },
   "file_extension": ".py",
   "mimetype": "text/x-python",
   "name": "python",
   "nbconvert_exporter": "python",
   "pygments_lexer": "ipython3",
   "version": "3.6.0"
  }
 },
 "nbformat": 4,
 "nbformat_minor": 2
}
