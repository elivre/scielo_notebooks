{
 "cells": [
  {
   "cell_type": "code",
   "execution_count": null,
   "metadata": {
    "collapsed": true
   },
   "outputs": [],
   "source": []
  },
  {
   "cell_type": "code",
   "execution_count": 8,
   "metadata": {
    "collapsed": false
   },
   "outputs": [],
   "source": [
    "import psycopg2 as pg\n",
    "\n"
   ]
  },
  {
   "cell_type": "code",
   "execution_count": 13,
   "metadata": {
    "collapsed": false
   },
   "outputs": [],
   "source": [
    "query_create_table_authors = \"\"\"\n",
    "create table documents_authors (\n",
    "extraction_date varchar,\n",
    "study_unit varchar,\n",
    "collection varchar,\n",
    "issn_scielo varchar,\n",
    "issn varchar,\n",
    "title_at_scielo varchar,\n",
    "title_thematic_areas varchar,\n",
    "title_is_agricultural_sciences varchar,\n",
    "title_is_applied_social_sciences varchar,\n",
    "title_is_biological_sciences varchar,\n",
    "title_is_engineering varchar,\n",
    "title_is_exact_and_earth_sciences varchar,\n",
    "title_is_health_sciences varchar,\n",
    "title_is_human_sciences varchar,\n",
    "title_is_linguistics_letters_and_arts varchar,\n",
    "title_is_multidisciplinary varchar,\n",
    "title_current_status varchar,\n",
    "document_publishing_pid_scielo varchar,\n",
    "document_publishing_year varchar,\n",
    "document_type varchar,\n",
    "document_is_citable varchar,\n",
    "document_author varchar,\n",
    "document_author_institution varchar,\n",
    "document_author_affiliation_country varchar,\n",
    "document_author_affiliation_state varchar,\n",
    "document_author_affiliation_city varchar\n",
    ");\n",
    "\n",
    "CREATE UNIQUE INDEX issn_scielo_idx ON documents_authors(issn_scielo);\n",
    "\"\"\"\n",
    "\n",
    "try:\n",
    "    conn = pg.connect(\"dbname='scielo_db' user='neilor' host='localhost' password='n1f2c3n1'\")\n",
    "except:\n",
    "    print (\"I am unable to connect to the database\")\n",
    "    \n",
    "cur = conn.cursor()\n",
    "try:\n",
    "    cur.execute(query_create_table_autors)\n",
    "    conn.commit()\n",
    "except:\n",
    "    print(\"erro\")\n",
    "    conn.rollback()\n",
    "print('OK')"
   ]
  },
  {
   "cell_type": "code",
   "execution_count": 14,
   "metadata": {
    "collapsed": false
   },
   "outputs": [
    {
     "ename": "OperationalError",
     "evalue": "could not open file \"/home/neilor/scielo_db/dados/tabs_bra/documents_autors.csv\" for reading: No such file or directory\n",
     "output_type": "error",
     "traceback": [
      "\u001b[0;31m---------------------------------------------------------------------------\u001b[0m",
      "\u001b[0;31mOperationalError\u001b[0m                          Traceback (most recent call last)",
      "\u001b[0;32m<ipython-input-14-8a2d61c97723>\u001b[0m in \u001b[0;36m<module>\u001b[0;34m()\u001b[0m\n\u001b[1;32m     17\u001b[0m \u001b[0;32mtry\u001b[0m\u001b[0;34m:\u001b[0m\u001b[0;34m\u001b[0m\u001b[0m\n\u001b[1;32m     18\u001b[0m     \u001b[0mcursor\u001b[0m \u001b[0;34m=\u001b[0m \u001b[0mconn\u001b[0m\u001b[0;34m.\u001b[0m\u001b[0mcursor\u001b[0m\u001b[0;34m(\u001b[0m\u001b[0;34m)\u001b[0m\u001b[0;34m\u001b[0m\u001b[0m\n\u001b[0;32m---> 19\u001b[0;31m     \u001b[0mcursor\u001b[0m\u001b[0;34m.\u001b[0m\u001b[0mexecute\u001b[0m\u001b[0;34m(\u001b[0m\u001b[0mcopy_csv\u001b[0m\u001b[0;34m)\u001b[0m\u001b[0;34m\u001b[0m\u001b[0m\n\u001b[0m\u001b[1;32m     20\u001b[0m     \u001b[0mconn\u001b[0m\u001b[0;34m.\u001b[0m\u001b[0mcommit\u001b[0m\u001b[0;34m(\u001b[0m\u001b[0;34m)\u001b[0m\u001b[0;34m\u001b[0m\u001b[0m\n\u001b[1;32m     21\u001b[0m     \u001b[0mcursor\u001b[0m\u001b[0;34m.\u001b[0m\u001b[0mclose\u001b[0m\u001b[0;34m(\u001b[0m\u001b[0;34m)\u001b[0m\u001b[0;34m\u001b[0m\u001b[0m\n",
      "\u001b[0;31mOperationalError\u001b[0m: could not open file \"/home/neilor/scielo_db/dados/tabs_bra/documents_autors.csv\" for reading: No such file or directory\n"
     ]
    }
   ],
   "source": [
    "copy_csv = \"\"\"\n",
    "COPY documents_autors\n",
    "    FROM  '/home/neilor/scielo_db/dados/tabs_bra/documents_authors.csv'\n",
    "    WITH \n",
    "    (\n",
    "    FORMAT CSV\n",
    "    ,DELIMITER ';'\n",
    "    ,NULL '#NULO'\n",
    "    ,HEADER true\n",
    "    ,QUOTE '\"'\n",
    "    ,ENCODING 'UTF-8'\n",
    "    )\n",
    ";\n",
    "\"\"\"\n",
    "\n",
    "conn = pg.connect(\"dbname='scielo_db' user='neilor' host='localhost' password='n1f2c3n1'\")\n",
    "try:\n",
    "    cursor = conn.cursor()\n",
    "    cursor.execute(copy_csv)\n",
    "    conn.commit()\n",
    "    cursor.close()\n",
    "finally:\n",
    "    conn.close()\n",
    "print(\"OK\")"
   ]
  },
  {
   "cell_type": "code",
   "execution_count": null,
   "metadata": {
    "collapsed": true
   },
   "outputs": [],
   "source": []
  }
 ],
 "metadata": {
  "kernelspec": {
   "display_name": "Python 3",
   "language": "python",
   "name": "python3"
  },
  "language_info": {
   "codemirror_mode": {
    "name": "ipython",
    "version": 3
   },
   "file_extension": ".py",
   "mimetype": "text/x-python",
   "name": "python",
   "nbconvert_exporter": "python",
   "pygments_lexer": "ipython3",
   "version": "3.6.0"
  }
 },
 "nbformat": 4,
 "nbformat_minor": 2
}
