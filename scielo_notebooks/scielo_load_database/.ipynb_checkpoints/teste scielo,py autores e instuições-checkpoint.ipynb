{
 "cells": [
  {
   "cell_type": "code",
   "execution_count": 1,
   "metadata": {
    "scrolled": true
   },
   "outputs": [
    {
     "name": "stdout",
     "output_type": "stream",
     "text": [
      "\n",
      "title-----------------------------------------\n",
      "{'scielo_id': 'S0034-73292014000100040', 'title': \"From Tegucigalpa to Teheran: Brazil's diplomacy as an emerging Western country\"}\n",
      "\n",
      "autores---------------------------------------\n",
      "{'scielo_id': 'S0034-73292014000100040', 'autores': [{'surname': 'Steiner', 'given_names': 'Andrea Quirino'}, {'surname': 'Medeiros', 'given_names': 'Marcelo de Almeida'}, {'surname': 'Lima', 'given_names': 'Rafael Mesquita de Souza'}]}\n",
      "\n",
      "abstract--------------------------------------\n",
      "{'scielo_id': 'S0034-73292014000100040', 'abstract': \"This paper reviews Brazil's pursuit for international insertion by: discussing its search for new partners; presenting an overview of the historical, cultural, and political features that render it the most Western of the emerging nations; and analyzing its participation in the management of two major international crises, the Honduran constitutional crisis and the Iranian nuclear crisis.\"}\n",
      "\n",
      "resumo----------------------------------------\n",
      "{'scielo_id': 'S0034-73292014000100040', 'resumo': 'Este artigo revisa a busca do Brasil pela inserção internacional ao: discutir a procura do País por novos parceiros; expor, brevemente, características históricas, culturais e políticas que o tornam o mais ocidental das nações emergentes; e analisar sua participação no manejo de duas grandes crises internacionais, a crise constitucional hondurenha e a crise nuclear iraniana.'}\n",
      "\n",
      "keywords--------------------------------------\n",
      "{'scielo_id': 'S0034-73292014000100040', 'keywords': ['Brazilian diplomacy', 'foreign policy', 'international crises']}\n",
      "\n",
      "palavras_chave--------------------------------\n",
      "{'scielo_id': 'S0034-73292014000100040', 'palavras_chave': ['diplomacia brasileira', 'política externa', 'crises internacionais']}\n",
      "\n",
      "instituicoes----------------------------------\n",
      "[{'scielo_id': 'S0034-73292014000100040', 'seq': '1', 'instituicao': ',Federal University of Pernambuco  ', 'localidade': 'Recife PE', 'pais': 'Brazil'}, {'scielo_id': 'S0034-73292014000100040', 'seq': '2', 'instituicao': ',Federal University of Pernambuco  ', 'localidade': 'Recife PE', 'pais': 'Brazil'}, {'scielo_id': 'S0034-73292014000100040', 'seq': '3', 'instituicao': ',Federal University of Pernambuco  ', 'localidade': 'Recife PE', 'pais': 'Brazil'}]\n",
      "\n",
      "referencias-----------------------------------\n",
      "{'scielo_id': 'S0034-73292014000100040', 'ref_id': 'B3', 'citation_type': 'journal', 'article_title': '\\n', 'article_lang': 'author', 'source': 'Revista Brasileira de Política Internacional', 'year': '2010', 'volume': '53', 'page_range': 'especial'}\n",
      "5\n",
      "{'scielo_id': 'S0034-73292014000100040', 'ref_id': 'B6', 'citation_type': 'journal', 'article_title': '\\n', 'article_lang': 'author', 'source': 'Contexto internacional', 'year': '2000', 'volume': '22', 'page_range': '2'}\n",
      "{'scielo_id': 'S0034-73292014000100040', 'ref_id': 'B8', 'citation_type': 'journal', 'article_title': '\\n', 'article_lang': 'author', 'source': 'The RUSI Journal', 'year': '2012', 'volume': '157', 'page_range': '4'}\n",
      "{'scielo_id': 'S0034-73292014000100040', 'ref_id': 'B9', 'citation_type': 'journal', 'article_title': '\\n', 'article_lang': 'author', 'source': 'Araucaria: Revista Iberoamericana de Filosofia, Política y Humanidades', 'year': '2012', 'volume': '14', 'page_range': '28'}\n",
      "{'scielo_id': 'S0034-73292014000100040', 'ref_id': 'B10', 'citation_type': 'journal', 'article_title': '\\n', 'article_lang': 'author', 'source': 'Third World Quarterly', 'year': '2012', 'volume': '33', 'page_range': '5'}\n",
      "5\n",
      "{'scielo_id': 'S0034-73292014000100040', 'ref_id': 'B14', 'citation_type': 'journal', 'article_title': '\\n', 'article_lang': 'author', 'source': 'Política Externa', 'year': '2009', 'volume': '18', 'page_range': '3'}\n",
      "{'scielo_id': 'S0034-73292014000100040', 'ref_id': 'B18', 'citation_type': 'journal', 'article_title': '\\n', 'article_lang': 'author', 'source': 'International Affairs', 'year': '2006', 'volume': '82', 'page_range': '1-19'}\n",
      "5\n",
      "8\n",
      "5\n",
      "5\n",
      "{'scielo_id': 'S0034-73292014000100040', 'ref_id': 'B24', 'citation_type': 'journal', 'article_title': '\\n', 'article_lang': 'author', 'source': 'Política Externa', 'year': '2000', 'volume': '9', 'page_range': '1'}\n",
      "{'scielo_id': 'S0034-73292014000100040', 'ref_id': 'B25', 'citation_type': 'journal', 'article_title': '\\n', 'article_lang': 'author', 'source': 'Estudos Internacionais', 'year': '2013', 'volume': '1', 'page_range': '2'}\n",
      "{'scielo_id': 'S0034-73292014000100040', 'ref_id': 'B30', 'citation_type': 'journal', 'article_title': '\\n', 'article_lang': 'author', 'source': 'Revista Brasileira de Política Internacional', 'year': '2010', 'volume': '53', 'page_range': '2'}\n",
      "{'scielo_id': 'S0034-73292014000100040', 'ref_id': 'B31', 'citation_type': 'journal', 'article_title': '\\n', 'article_lang': 'author', 'source': 'Critique Internationale', 'year': '2012', 'volume': '56', 'page_range': '56'}\n",
      "{'scielo_id': 'S0034-73292014000100040', 'ref_id': 'B34', 'citation_type': 'journal', 'article_title': '\\n', 'article_lang': 'author', 'source': 'Em Aberto', 'year': '1995', 'volume': '15', 'page_range': '68'}\n",
      "{'scielo_id': 'S0034-73292014000100040', 'ref_id': 'B35', 'citation_type': 'journal', 'article_title': '\\n', 'article_lang': 'author', 'source': 'Journal of Palestine Studies', 'year': '1977', 'volume': '7', 'page_range': '1'}\n",
      "{'scielo_id': 'S0034-73292014000100040', 'ref_id': 'B36', 'citation_type': 'journal', 'article_title': '\\n', 'article_lang': 'author', 'source': 'Ciência &amp; Letras', 'year': '2012', 'volume': '51', 'page_range': '111-33'}\n",
      "{'scielo_id': 'S0034-73292014000100040', 'ref_id': 'B37', 'citation_type': 'journal', 'article_title': '\\n', 'article_lang': 'author', 'source': 'Revista Brasileira de Política Internacional', 'year': '2011', 'volume': '54', 'page_range': '1'}\n",
      "{'scielo_id': 'S0034-73292014000100040', 'ref_id': 'B38', 'citation_type': 'journal', 'article_title': '\\n', 'article_lang': 'author', 'source': 'Contexto Internacional', 'year': '2007', 'volume': '29', 'page_range': '2'}\n",
      "4\n",
      "[{'scielo_id': 'S0034-73292014000100040', 'ref_id': 'B3', 'citation_type': 'journal', 'article_title': '\\n', 'article_lang': 'author', 'source': 'Revista Brasileira de Política Internacional', 'year': '2010', 'volume': '53', 'page_range': 'especial'}, {'scielo_id': 'S0034-73292014000100040', 'ref_id': 'B5', 'citation_type': 'book', 'source': 'De Dutra a Lula: A condução e os determinantes da política externa brasileira', 'year': '2011', 'publisher_loc': 'Rio de Janeiro, Brasil '}, {'scielo_id': 'S0034-73292014000100040', 'ref_id': 'B6', 'citation_type': 'journal', 'article_title': '\\n', 'article_lang': 'author', 'source': 'Contexto internacional', 'year': '2000', 'volume': '22', 'page_range': '2'}, {'scielo_id': 'S0034-73292014000100040', 'ref_id': 'B8', 'citation_type': 'journal', 'article_title': '\\n', 'article_lang': 'author', 'source': 'The RUSI Journal', 'year': '2012', 'volume': '157', 'page_range': '4'}, {'scielo_id': 'S0034-73292014000100040', 'ref_id': 'B9', 'citation_type': 'journal', 'article_title': '\\n', 'article_lang': 'author', 'source': 'Araucaria: Revista Iberoamericana de Filosofia, Política y Humanidades', 'year': '2012', 'volume': '14', 'page_range': '28'}, {'scielo_id': 'S0034-73292014000100040', 'ref_id': 'B10', 'citation_type': 'journal', 'article_title': '\\n', 'article_lang': 'author', 'source': 'Third World Quarterly', 'year': '2012', 'volume': '33', 'page_range': '5'}, {'scielo_id': 'S0034-73292014000100040', 'ref_id': 'B12', 'citation_type': 'book', 'source': 'A legitimidade e outras questões internacionais', 'year': '1998', 'publisher_loc': 'São Paulo '}, {'scielo_id': 'S0034-73292014000100040', 'ref_id': 'B14', 'citation_type': 'journal', 'article_title': '\\n', 'article_lang': 'author', 'source': 'Política Externa', 'year': '2009', 'volume': '18', 'page_range': '3'}, {'scielo_id': 'S0034-73292014000100040', 'ref_id': 'B18', 'citation_type': 'journal', 'article_title': '\\n', 'article_lang': 'author', 'source': 'International Affairs', 'year': '2006', 'volume': '82', 'page_range': '1-19'}, {'scielo_id': 'S0034-73292014000100040', 'ref_id': 'B19', 'citation_type': 'book', 'source': 'On Global Order: power, values and the constitution of international society', 'year': '2007', 'publisher_loc': 'New York '}, {'scielo_id': 'S0034-73292014000100040', 'ref_id': 'B20', 'citation_type': 'book', 'source': 'Quem são os ocidentais?', 'year': '\\n', 'publisher_loc': 'História dos Conceitos: diálogos transatlânticos'}, {'scielo_id': 'S0034-73292014000100040', 'ref_id': 'B21', 'citation_type': 'book', 'source': 'Power and Interdependence', 'year': '1977', 'publisher_loc': 'Boston '}, {'scielo_id': 'S0034-73292014000100040', 'ref_id': 'B22', 'citation_type': 'book', 'source': 'A identidade internacional do Brasil e a política externa brasileira: Passado, presente e futuro', 'year': '2009', 'publisher_loc': 'São Paulo, Brasil '}, {'scielo_id': 'S0034-73292014000100040', 'ref_id': 'B24', 'citation_type': 'journal', 'article_title': '\\n', 'article_lang': 'author', 'source': 'Política Externa', 'year': '2000', 'volume': '9', 'page_range': '1'}, {'scielo_id': 'S0034-73292014000100040', 'ref_id': 'B25', 'citation_type': 'journal', 'article_title': '\\n', 'article_lang': 'author', 'source': 'Estudos Internacionais', 'year': '2013', 'volume': '1', 'page_range': '2'}, {'scielo_id': 'S0034-73292014000100040', 'ref_id': 'B30', 'citation_type': 'journal', 'article_title': '\\n', 'article_lang': 'author', 'source': 'Revista Brasileira de Política Internacional', 'year': '2010', 'volume': '53', 'page_range': '2'}, {'scielo_id': 'S0034-73292014000100040', 'ref_id': 'B31', 'citation_type': 'journal', 'article_title': '\\n', 'article_lang': 'author', 'source': 'Critique Internationale', 'year': '2012', 'volume': '56', 'page_range': '56'}, {'scielo_id': 'S0034-73292014000100040', 'ref_id': 'B34', 'citation_type': 'journal', 'article_title': '\\n', 'article_lang': 'author', 'source': 'Em Aberto', 'year': '1995', 'volume': '15', 'page_range': '68'}, {'scielo_id': 'S0034-73292014000100040', 'ref_id': 'B35', 'citation_type': 'journal', 'article_title': '\\n', 'article_lang': 'author', 'source': 'Journal of Palestine Studies', 'year': '1977', 'volume': '7', 'page_range': '1'}, {'scielo_id': 'S0034-73292014000100040', 'ref_id': 'B36', 'citation_type': 'journal', 'article_title': '\\n', 'article_lang': 'author', 'source': 'Ciência &amp; Letras', 'year': '2012', 'volume': '51', 'page_range': '111-33'}, {'scielo_id': 'S0034-73292014000100040', 'ref_id': 'B37', 'citation_type': 'journal', 'article_title': '\\n', 'article_lang': 'author', 'source': 'Revista Brasileira de Política Internacional', 'year': '2011', 'volume': '54', 'page_range': '1'}, {'scielo_id': 'S0034-73292014000100040', 'ref_id': 'B38', 'citation_type': 'journal', 'article_title': '\\n', 'article_lang': 'author', 'source': 'Contexto Internacional', 'year': '2007', 'volume': '29', 'page_range': '2'}, {'scielo_id': 'S0034-73292014000100040', 'ref_id': 'B39', 'citation_type': 'book', 'source': 'Brasil, País do Futuro', 'year': '1941', 'publisher_loc': 'Editora Ridendo Castigat Mores'}]\n",
      "\n",
      "autores_ref-----------------------------------\n",
      "[{'scielo_id': 'S0034-73292014000100040', 'surname': 'AMORIM', 'given_names': 'C'}, {'scielo_id': 'S0034-73292014000100040', 'surname': 'AMORIM', 'given_names': 'C'}, {'scielo_id': 'S0034-73292014000100040', 'surname': 'AMORIM', 'given_names': 'C'}, {'scielo_id': 'S0034-73292014000100040', 'surname': 'AMORIM', 'given_names': 'C'}, {'scielo_id': 'S0034-73292014000100040', 'surname': 'AMORIM NETO', 'given_names': 'O'}, {'scielo_id': 'S0034-73292014000100040', 'surname': 'ARBILLA', 'given_names': 'J. M.'}, {'scielo_id': 'S0034-73292014000100040', 'surname': 'BADIE', 'given_names': 'B.'}, {'scielo_id': 'S0034-73292014000100040', 'surname': 'BERTAZZO', 'given_names': 'J'}, {'scielo_id': 'S0034-73292014000100040', 'surname': 'BRUN', 'given_names': 'E.'}, {'scielo_id': 'S0034-73292014000100040', 'surname': 'DAUVERGNE', 'given_names': 'P.'}, {'scielo_id': 'S0034-73292014000100040', 'surname': 'FARIAS', 'given_names': 'D. B. L.'}, {'scielo_id': 'S0034-73292014000100040', 'surname': 'FONSECA JÚNIOR', 'given_names': 'G.'}, {'scielo_id': 'S0034-73292014000100040', 'surname': 'FOTTORINO', 'given_names': 'E'}, {'scielo_id': 'S0034-73292014000100040', 'surname': 'GARCIA', 'given_names': 'M. A.'}, {'scielo_id': 'S0034-73292014000100040', 'surname': 'HURRELL', 'given_names': 'A.'}, {'scielo_id': 'S0034-73292014000100040', 'surname': 'HURRELL', 'given_names': 'A'}, {'scielo_id': 'S0034-73292014000100040', 'surname': 'IFVERSEN', 'given_names': 'J'}, {'scielo_id': 'S0034-73292014000100040', 'surname': 'KEOHANE', 'given_names': 'R. O.'}, {'scielo_id': 'S0034-73292014000100040', 'surname': 'NYE', 'given_names': 'J. S.'}, {'scielo_id': 'S0034-73292014000100040', 'surname': 'LAFER', 'given_names': 'C.'}, {'scielo_id': 'S0034-73292014000100040', 'surname': 'LULA DA SILVA', 'given_names': 'L.'}, {'scielo_id': 'S0034-73292014000100040', 'surname': 'MAGNOLI', 'given_names': 'D.'}, {'scielo_id': 'S0034-73292014000100040', 'surname': 'CESAR', 'given_names': 'L. F. P'}, {'scielo_id': 'S0034-73292014000100040', 'surname': 'YANG', 'given_names': 'P.'}, {'scielo_id': 'S0034-73292014000100040', 'surname': 'MALAMUD', 'given_names': 'A'}, {'scielo_id': 'S0034-73292014000100040', 'surname': 'RODRIGUEZ', 'given_names': 'J. C'}, {'scielo_id': 'S0034-73292014000100040', 'surname': 'PATTI', 'given_names': 'C.'}, {'scielo_id': 'S0034-73292014000100040', 'surname': 'PELOPIDAS', 'given_names': 'B'}, {'scielo_id': 'S0034-73292014000100040', 'surname': 'SADJADPOUR', 'given_names': 'K.'}, {'scielo_id': 'S0034-73292014000100040', 'surname': 'SARAIVA', 'given_names': 'J. F. S.'}, {'scielo_id': 'S0034-73292014000100040', 'surname': 'SHARIF', 'given_names': 'R.'}, {'scielo_id': 'S0034-73292014000100040', 'surname': 'SILVA', 'given_names': 'A. L. R'}, {'scielo_id': 'S0034-73292014000100040', 'surname': 'PILLA', 'given_names': 'B'}, {'scielo_id': 'S0034-73292014000100040', 'surname': 'STUENKEL', 'given_names': 'O.'}, {'scielo_id': 'S0034-73292014000100040', 'surname': 'VIGEVANI', 'given_names': 'T'}, {'scielo_id': 'S0034-73292014000100040', 'surname': 'CEPALUNI', 'given_names': 'G'}, {'scielo_id': 'S0034-73292014000100040', 'surname': 'ZWEIG', 'given_names': 'S'}]\n"
     ]
    },
    {
     "data": {
      "text/plain": [
       "\"\\nprint('referencia_autores')\\n#referencia_autores = xml.get_referencia_autores()  \\n#print(referencia_autores)\\n\\nprint('texto')\\ntexto = xml.get_texto() \\nprint(texto)\\n\\n\""
      ]
     },
     "execution_count": 1,
     "metadata": {},
     "output_type": "execute_result"
    }
   ],
   "source": [
    "import scielo_xml as sci\n",
    "url_xml = 'file:///home/neilor/SCIELO_DADOS/dados/artigos_xml/S0034-73292014000100040.xml'\n",
    "xml = sci.parse_xml(url_xml)\n",
    "\n",
    "print('\\ntitle-----------------------------------------') \n",
    "title = xml.get_title()\n",
    "print(title )   \n",
    "\n",
    "print('\\nautores---------------------------------------')\n",
    "autores = xml.get_autores()\n",
    "print(autores)\n",
    "\n",
    "print('\\nabstract--------------------------------------')\n",
    "abstract = xml.get_abstract()\n",
    "print(abstract)\n",
    "\n",
    "print('\\nresumo----------------------------------------')\n",
    "resumo = xml.get_resumo()\n",
    "print(resumo)\n",
    "\n",
    "print('\\nkeywords--------------------------------------')\n",
    "keywords = xml.get_keywords()\n",
    "print(keywords)\n",
    "\n",
    "print('\\npalavras_chave--------------------------------')\n",
    "palavras_chave = xml.get_palavras_chave()\n",
    "print(palavras_chave)\n",
    "\n",
    "\n",
    "\n",
    "print('\\ninstituicoes----------------------------------')\n",
    "instituicoes = xml.get_instituicoes()\n",
    "print(instituicoes)\n",
    "\n",
    "\n",
    "print('\\nreferencias-----------------------------------')\n",
    "referencias = xml.get_referencias()     \n",
    "print(referencias)\n",
    "\n",
    "print('\\nautores_ref-----------------------------------')\n",
    "autores_ref = xml.get_autores_ref()\n",
    "print(autores_ref)\n",
    "\n",
    "\"\"\"\n",
    "print('referencia_autores')\n",
    "#referencia_autores = xml.get_referencia_autores()  \n",
    "#print(referencia_autores)\n",
    "\n",
    "print('texto')\n",
    "texto = xml.get_texto() \n",
    "print(texto)\n",
    "\n",
    "\"\"\"\n",
    "\n",
    "\n",
    "\n",
    "\n",
    "\n",
    "\n"
   ]
  },
  {
   "cell_type": "code",
   "execution_count": null,
   "metadata": {
    "collapsed": true
   },
   "outputs": [],
   "source": []
  }
 ],
 "metadata": {
  "kernelspec": {
   "display_name": "Python 3",
   "language": "python",
   "name": "python3"
  },
  "language_info": {
   "codemirror_mode": {
    "name": "ipython",
    "version": 3
   },
   "file_extension": ".py",
   "mimetype": "text/x-python",
   "name": "python",
   "nbconvert_exporter": "python",
   "pygments_lexer": "ipython3",
   "version": "3.6.2"
  }
 },
 "nbformat": 4,
 "nbformat_minor": 2
}
